{
 "cells": [
  {
   "cell_type": "code",
   "execution_count": 47,
   "metadata": {},
   "outputs": [],
   "source": [
    "from typing import List, Any, Optional, Dict\n",
    "from pydantic import BaseModel\n",
    "\n",
    "class ToolFile(BaseModel):\n",
    "    filePath: Optional[str] = None\n",
    "    url: str\n",
    "    filename: Optional[str] = None"
   ]
  },
  {
   "cell_type": "code",
   "execution_count": 35,
   "metadata": {},
   "outputs": [],
   "source": [
    "# for validation\n",
    "requested_tools = {\n",
    "    \"inputs\": [\n",
    "        {\n",
    "            \"label\": \"Topic\",\n",
    "            \"name\": \"topic\",\n",
    "            \"type\": \"text\"\n",
    "        },\n",
    "        {\n",
    "            \"label\": \"Number of Questions\",\n",
    "            \"name\": \"num_questions\",\n",
    "            \"type\": \"number\"\n",
    "        },\n",
    "        {\n",
    "            \"label\": \"Upload PDF files\",\n",
    "            \"name\": \"files\",\n",
    "            \"type\": \"file\"\n",
    "        }\n",
    "    ]\n",
    "}"
   ]
  },
  {
   "cell_type": "code",
   "execution_count": 49,
   "metadata": {},
   "outputs": [],
   "source": [
    "# input request\n",
    "# files should be a list of file objects as dictionaries\n",
    "request={\n",
    "    \"inputs\" :[\n",
    "        {\n",
    "            \"name\":\"topic\",\n",
    "            \"value\": \"my_topic\"\n",
    "        },\n",
    "        {\n",
    "            \"name\":\"num_questions\",\n",
    "            \"value\": \"5\"\n",
    "        },\n",
    "        {\n",
    "            \"name\":\"files\",\n",
    "            \"value\": [\n",
    "                        {\n",
    "                            \"filePath\": \"Optional[str] = None\",\n",
    "                            \"url\": \"str\",\n",
    "                            \"filename\": \"Optional[str] = None\"\n",
    "                        }\n",
    "                    ] \n",
    "        }\n",
    "]\n",
    "}\n",
    "\n"
   ]
  },
  {
   "cell_type": "code",
   "execution_count": 45,
   "metadata": {},
   "outputs": [
    {
     "name": "stdout",
     "output_type": "stream",
     "text": [
      "{'topic': 'my_topic', 'num_questions': '5', 'files': [{'filePath': 'Optional[str] = None', 'url': 'str', 'filename': 'Optional[str] = None'}]}\n",
      "topic my_topic\n",
      "num_questions 5\n",
      "files [{'filePath': 'Optional[str] = None', 'url': 'str', 'filename': 'Optional[str] = None'}]\n"
     ]
    }
   ],
   "source": [
    "# prepare inputs\n",
    "request_data = {input[\"name\"]: input[\"value\"] for input in request['inputs']}\n",
    "print(request_data)\n",
    "for input_name, input_value in request_data.items():\n",
    "    print(input_name,input_value)"
   ]
  },
  {
   "cell_type": "code",
   "execution_count": 65,
   "metadata": {},
   "outputs": [
    {
     "name": "stdout",
     "output_type": "stream",
     "text": [
      "filePath='Optional[str] = None' url='str' filename='Optional[str] = None'\n",
      "{'topic': 'my_topic', 'num_questions': '5', 'files': [ToolFile(filePath='Optional[str] = None', url='str', filename='Optional[str] = None')]}\n"
     ]
    }
   ],
   "source": [
    "# finalize inputs\n",
    "inputs = request_data.copy()\n",
    "inputs['files'] = [ToolFile(**file_object) for file_object in inputs['files']]\n",
    "print(inputs['files'][0])\n",
    "print(inputs)\n",
    "# return request_inputs_dict = inputs\n",
    "\n"
   ]
  },
  {
   "cell_type": "code",
   "execution_count": 29,
   "metadata": {},
   "outputs": [
    {
     "data": {
      "text/plain": [
       "{'topic': 'text', 'num_questions': 'number', 'files': 'file'}"
      ]
     },
     "execution_count": 29,
     "metadata": {},
     "output_type": "execute_result"
    }
   ],
   "source": [
    "validate_inputs = {input_item['name']: input_item['type'] for input_item in requested_tools['inputs']}\n",
    "validate_inputs"
   ]
  },
  {
   "cell_type": "code",
   "execution_count": 7,
   "metadata": {},
   "outputs": [
    {
     "name": "stdout",
     "output_type": "stream",
     "text": [
      "topic text\n",
      "num_questions number\n",
      "files file\n"
     ]
    }
   ],
   "source": [
    "for validate_input_name, input_type in validate_inputs.items():\n",
    "    print(validate_input_name,input_type)\n"
   ]
  },
  {
   "cell_type": "code",
   "execution_count": 77,
   "metadata": {},
   "outputs": [
    {
     "data": {
      "text/plain": [
       "<function features.quizzify.core.executor(files: list[services.tool_registry.ToolFile], topic: str, num_questions: int, verbose=False)>"
      ]
     },
     "execution_count": 77,
     "metadata": {},
     "output_type": "execute_result"
    }
   ],
   "source": [
    "# get core module\n",
    "import os\n",
    "# ! pwd\n",
    "# os.chdir(\"/app\")\n",
    "# ! pwd\n",
    "module = __import__(\"features.quizzify.core\", fromlist=['executor'])\n",
    "\n",
    "execute_function = getattr(module, 'executor')\n",
    "execute_function\n"
   ]
  },
  {
   "cell_type": "code",
   "execution_count": 1,
   "metadata": {},
   "outputs": [
    {
     "ename": "NameError",
     "evalue": "name 'url' is not defined",
     "output_type": "error",
     "traceback": [
      "\u001b[0;31m---------------------------------------------------------------------------\u001b[0m",
      "\u001b[0;31mNameError\u001b[0m                                 Traceback (most recent call last)",
      "Cell \u001b[0;32mIn[1], line 3\u001b[0m\n\u001b[1;32m      1\u001b[0m \u001b[38;5;28;01mfrom\u001b[39;00m \u001b[38;5;21;01murllib\u001b[39;00m\u001b[38;5;21;01m.\u001b[39;00m\u001b[38;5;21;01mparse\u001b[39;00m \u001b[38;5;28;01mimport\u001b[39;00m urlparse\n\u001b[0;32m----> 3\u001b[0m parsed_url \u001b[38;5;241m=\u001b[39m urlparse(\u001b[43murl\u001b[49m)\n",
      "\u001b[0;31mNameError\u001b[0m: name 'url' is not defined"
     ]
    }
   ],
   "source": [
    "from urllib.parse import urlparse\n"
   ]
  },
  {
   "cell_type": "code",
   "execution_count": 5,
   "metadata": {},
   "outputs": [
    {
     "data": {
      "text/plain": [
       "ParseResult(scheme='https', netloc='www.youtube.com', path='/watch', params='', query='v=RhR2_PZo2WM', fragment='')"
      ]
     },
     "execution_count": 5,
     "metadata": {},
     "output_type": "execute_result"
    }
   ],
   "source": [
    "\n",
    "parsed_url = urlparse(\"https://www.youtube.com/watch?v=RhR2_PZo2WM\")\n",
    "parsed_url"
   ]
  },
  {
   "cell_type": "code",
   "execution_count": 22,
   "metadata": {},
   "outputs": [],
   "source": [
    "def add (kwargs):\n",
    "    if \"a\" in kwargs.keys():\n",
    "        print(kwargs.keys())\n",
    "\n",
    "dic = {\"a\":1, \"b\":2}"
   ]
  },
  {
   "cell_type": "code",
   "execution_count": 23,
   "metadata": {},
   "outputs": [
    {
     "ename": "TypeError",
     "evalue": "add() got an unexpected keyword argument 'a'",
     "output_type": "error",
     "traceback": [
      "\u001b[0;31m---------------------------------------------------------------------------\u001b[0m",
      "\u001b[0;31mTypeError\u001b[0m                                 Traceback (most recent call last)",
      "Cell \u001b[0;32mIn[23], line 1\u001b[0m\n\u001b[0;32m----> 1\u001b[0m res \u001b[38;5;241m=\u001b[39m \u001b[43madd\u001b[49m\u001b[43m(\u001b[49m\u001b[38;5;241;43m*\u001b[39;49m\u001b[38;5;241;43m*\u001b[39;49m\u001b[43mdic\u001b[49m\u001b[43m)\u001b[49m\n",
      "\u001b[0;31mTypeError\u001b[0m: add() got an unexpected keyword argument 'a'"
     ]
    }
   ],
   "source": [
    "res = add(**dic)\n"
   ]
  },
  {
   "cell_type": "code",
   "execution_count": 18,
   "metadata": {},
   "outputs": [
    {
     "name": "stdout",
     "output_type": "stream",
     "text": [
      "None\n"
     ]
    }
   ],
   "source": [
    "print(dic.get(\"c\", None))"
   ]
  },
  {
   "cell_type": "code",
   "execution_count": 28,
   "metadata": {},
   "outputs": [
    {
     "name": "stdout",
     "output_type": "stream",
     "text": [
      "Hello Alice, you are 30 years old and you live in New Yorkmale.\n"
     ]
    }
   ],
   "source": [
    "def greet(sex,name, age, city):\n",
    "    print(f\"Hello {name}, you are {age} years old and you live in {city}{sex}.\")\n",
    "person_info = {\n",
    "    \"name\": \"Alice\",\n",
    "    \"age\": 30,\n",
    "    \"city\": \"New York\"\n",
    "}\n",
    "greet(\"male\",**person_info)\n"
   ]
  },
  {
   "cell_type": "code",
   "execution_count": null,
   "metadata": {},
   "outputs": [],
   "source": []
  },
  {
   "cell_type": "code",
   "execution_count": null,
   "metadata": {},
   "outputs": [],
   "source": []
  },
  {
   "cell_type": "code",
   "execution_count": 1,
   "metadata": {},
   "outputs": [
    {
     "data": {
      "text/plain": [
       "{'user': {'id': 'string', 'fullName': 'string', 'email': 'string'},\n",
       " 'type': 'tool',\n",
       " 'tool_data': {'tool_id': 1,\n",
       "  'inputs': [{'name': 'topic', 'value': 'Math'},\n",
       "   {'name': 'num_questions', 'value': 1},\n",
       "   {'name': 'files',\n",
       "    'value': [{'filePath': 'uploads/ac7c6ef5-51c4-4a24-b7e4-043e3f6f9fbd-certificate.pdf',\n",
       "      'url': 'https://firebasestorage.googleapis.com/v0/b/kai-ai-f63c8.appspot.com/o/uploads%2F510f946e-823f-42d7-b95d-d16925293946-Linear%20Regression%20Stat%20Yale.pdf?alt=media&token=caea86aa-c06b-4cde-9fd0-42962eb72ddd',\n",
       "      'filename': 'certificate.pdf',\n",
       "      'page_num': '2'},\n",
       "     {'filePath': '',\n",
       "      'url': 'https://youtu.be/fBRX6F1VDSw?si=CcEWSaih8fKvjDjk',\n",
       "      'filename': '',\n",
       "      'start_time': '2',\n",
       "      'end_time': '4'}]}]}}"
      ]
     },
     "execution_count": 1,
     "metadata": {},
     "output_type": "execute_result"
    }
   ],
   "source": [
    "{\n",
    "    \"user\": {\n",
    "        \"id\": \"string\",\n",
    "        \"fullName\": \"string\",\n",
    "        \"email\": \"string\"\n",
    "    },\n",
    "    \"type\": \"tool\",\n",
    "    \"tool_data\": {\n",
    "        \"tool_id\": 1,\n",
    "        \"inputs\": [\n",
    "            {\n",
    "                \"name\": \"youtube_url\",\n",
    "                \"value\": \"https://yoube/rePgDRtACLo?si=TXSopTvUl_2l8jlM\"\n",
    "            }\n",
    "        ]\n",
    "    }\n",
    "}\n",
    "\n",
    "\n",
    "{\n",
    "    \"user\": {\n",
    "        \"id\": \"string\",\n",
    "        \"fullName\": \"string\",\n",
    "        \"email\": \"string\"\n",
    "    },\n",
    "    \"type\": \"tool\",\n",
    "    \"tool_data\": {\n",
    "        \"tool_id\": 1,\n",
    "        \"inputs\": [\n",
    "            {\n",
    "                \"name\": \"url\",\n",
    "                \"value\": \"any_url\"\n",
    "            },\n",
    "            {\n",
    "                \"name\": \"start_time\",\n",
    "                \"value\": \"1\"\n",
    "            },\n",
    "            {\n",
    "                \"name\": \"end_time\",\n",
    "                \"value\": \"3\"\n",
    "            },\n",
    "            {\n",
    "                \"name\": \"page_num\",\n",
    "                \"value\": \"2\"\n",
    "            }\n",
    "\n",
    "        ]\n",
    "    }\n",
    "}\n",
    "\n",
    "\n",
    "{\n",
    "    \"user\": {\n",
    "        \"id\": \"string\",\n",
    "        \"fullName\": \"string\",\n",
    "        \"email\": \"string\"\n",
    "    },\n",
    "    \"type\": \"tool\",\n",
    "    \"tool_data\": {\n",
    "        \"tool_id\": 1,\n",
    "        \"inputs\": [\n",
    "            {\n",
    "                \"name\": \"topic\",\n",
    "                \"value\": \"Math\"\n",
    "            },\n",
    "            {\n",
    "                \"name\": \"num_questions\",\n",
    "                \"value\": 1\n",
    "            },\n",
    "            {\n",
    "                \"name\": \"youtube_url\",\n",
    "                \"value\": \"https://yoube/rePgDRtACLo?si=TXSopTvUl_2l8jlM\"\n",
    "            },\n",
    "            {\n",
    "                \"name\": \"start_time\",\n",
    "                \"value\": \"1\"\n",
    "            },\n",
    "            {\n",
    "                \"name\": \"end_time\",\n",
    "                \"value\": \"3\"\n",
    "            },\n",
    "            {\n",
    "                \"name\": \"files\",\n",
    "                \"value\": [\n",
    "                    {\n",
    "                        \"filePath\": \"uploads/ac7c6ef5-51c4-4a24-b7e4-043e3f6f9fbd-certificate.pdf\",\n",
    "                        \"url\": \"https://firebasestorage.googleapis.com/v0/b/kai-ai-f63c8.appspot.com/o/uploads%2F510f946e-823f-42d7-b95d-d16925293946-Linear%20Regression%20Stat%20Yale.pdf?alt=media&token=caea86aa-c06b-4cde-9fd0-42962eb72ddd\",\n",
    "                        \"filename\": \"certificate.pdf\",\n",
    "                        \"page_num\": \"2\"\n",
    "                    }\n",
    "                ]\n",
    "            }\n",
    "        ]\n",
    "    }\n",
    "}"
   ]
  },
  {
   "cell_type": "code",
   "execution_count": null,
   "metadata": {},
   "outputs": [],
   "source": [
    "{\n",
    "    \"user\": {\n",
    "        \"id\": \"string\",\n",
    "        \"fullName\": \"string\",\n",
    "        \"email\": \"string\"\n",
    "    },\n",
    "    \"type\": \"tool\",\n",
    "    \"tool_data\": {\n",
    "        \"tool_id\": 1,\n",
    "        \"inputs\": [\n",
    "            {\n",
    "                \"name\": \"youtube_url\",\n",
    "                \"value\": \"https://yoube/rePgDRtACLo?si=TXSopTvUl_2l8jlM\"\n",
    "            },\n",
    "            {\n",
    "                \"name\": \"start_time\",\n",
    "                \"value\": \"1\"\n",
    "            },\n",
    "            {\n",
    "                \"name\": \"end_time\",\n",
    "                \"value\": \"3\"\n",
    "            },\n",
    "            {\n",
    "                \"name\": \"files\",\n",
    "                \"value\": [\n",
    "                    {\n",
    "                        \"filePath\": \"uploads/ac7c6ef5-51c4-4a24-b7e4-043e3f6f9fbd-certificate.pdf\",\n",
    "                        \"url\": \"https://firebasestorage.googleapis.com/v0/b/kai-ai-f63c8.appspot.com/o/uploads%2F510f946e-823f-42d7-b95d-d16925293946-Linear%20Regression%20Stat%20Yale.pdf?alt=media&token=caea86aa-c06b-4cde-9fd0-42962eb72ddd\",\n",
    "                        \"filename\": \"certificate.pdf\",\n",
    "                        \"page_num\": \"2\"\n",
    "                    }\n",
    "                ]\n",
    "            }\n",
    "        ]\n",
    "    }\n",
    "}"
   ]
  },
  {
   "cell_type": "code",
   "execution_count": null,
   "metadata": {},
   "outputs": [],
   "source": [
    "{'path': 'features.quizzify.core', 'metadata_file': 'metadata.json'}\n",
    "{'path': 'features.dynamo.core', 'metadata_file': 'metadata.json'}\n"
   ]
  },
  {
   "cell_type": "code",
   "execution_count": 28,
   "metadata": {},
   "outputs": [],
   "source": [
    "transcript_pieces = [{'text': 'the jogan experience by the way I feel', 'start': 0.919, 'duration': 5.801}, {'text': 'like an [\\xa0__\\xa0] sometimes when I come on', 'start': 4.56, 'duration': 5.72}, {'text': \"here Terence Howard you I don't even\", 'start': 6.72, 'duration': 5.32}, {'text': 'know what to say I was like Googling', 'start': 10.28, 'duration': 4.72}, {'text': '[\\xa0__\\xa0] to talk about after that what the', 'start': 12.04, 'duration': 6.44}, {'text': '[\\xa0__\\xa0] what in the actual [\\xa0__\\xa0] I', 'start': 15.0, 'duration': 5.039}, {'text': 'understand it though I kind of', 'start': 18.48, 'duration': 4.32}, {'text': 'understand I understand it I understand', 'start': 20.039, 'duration': 4.441}, {'text': 'kind I mean it made', 'start': 22.8, 'duration': 5.479}, {'text': \"sense to me he's he's making me\", 'start': 24.48, 'duration': 7.52}, {'text': \"believe he's way too smart to just be\", 'start': 28.279, 'duration': 5.841}, {'text': \"making everything up like this there's\", 'start': 32.0, 'duration': 4.0}, {'text': \"no way he's just make he's a lunatic\", 'start': 34.12, 'duration': 4.04}, {'text': \"like I've heard people say you can't\", 'start': 36.0, 'duration': 4.52}, {'text': \"come making things I'm like I I don't\", 'start': 38.16, 'duration': 4.76}, {'text': \"think that's correct he knows too much\", 'start': 40.52, 'duration': 5.6}, {'text': \"so is he correct I don't know and then\", 'start': 42.92, 'duration': 5.2}, {'text': \"that's so that's what has what has to\", 'start': 46.12, 'duration': 4.24}, {'text': 'happen is Terrence Howard has to sit', 'start': 48.12, 'duration': 5.119}, {'text': \"down with someone who's uh an academic\", 'start': 50.36, 'duration': 4.879}, {'text': \"someone who's got a PhD and whatever\", 'start': 53.239, 'duration': 3.401}, {'text': \"discipline they're talking about and\", 'start': 55.239, 'duration': 3.201}, {'text': 'they can have a discussion and you can', 'start': 56.64, 'duration': 4.2}, {'text': 'see what he really knows knows and just', 'start': 58.44, 'duration': 5.0}, {'text': 'what he can say to me right it to me it', 'start': 60.84, 'duration': 4.359}, {'text': \"all makes sense but I'm a [\\xa0__\\xa0] no\", 'start': 63.44, 'duration': 2.999}, {'text': \"you're not but if you're talking to a\", 'start': 65.199, 'duration': 2.681}, {'text': \"mathematician or if you're talking to a\", 'start': 66.439, 'duration': 3.761}, {'text': 'physicist someone who actually can', 'start': 67.88, 'duration': 4.32}, {'text': 'understand what these computations mean', 'start': 70.2, 'duration': 3.88}, {'text': \"and what he's trying to say about one\", 'start': 72.2, 'duration': 4.72}, {'text': \"plus one or one multiplied by one can't\", 'start': 74.08, 'duration': 4.92}, {'text': 'be one like no mathematics everything is', 'start': 76.92, 'duration': 6.08}, {'text': \"[\\xa0__\\xa0] I believe that I was I wasn't\", 'start': 79.0, 'duration': 5.04}, {'text': 'good in', 'start': 83.0, 'duration': 4.52}, {'text': \"algebra I'm I see I see it more in a\", 'start': 84.04, 'duration': 5.28}, {'text': 'linear way not a linear way a different', 'start': 87.52, 'duration': 2.919}, {'text': 'way than him', 'start': 89.32, 'duration': 3.96}, {'text': 'like more similarly to him right well I', 'start': 90.439, 'duration': 5.121}, {'text': 'would imagine', 'start': 93.28, 'duration': 5.68}, {'text': \"that there's probably more to all all\", 'start': 95.56, 'duration': 6.96}, {'text': 'these things those [\\xa0__\\xa0] toys figures', 'start': 98.96, 'duration': 6.6}, {'text': 'even our mathematics like as brilliant', 'start': 102.52, 'duration': 5.32}, {'text': 'as the people are who have created all', 'start': 105.56, 'duration': 4.68}, {'text': \"the formulas that everyone's studying I\", 'start': 107.84, 'duration': 5.279}, {'text': \"would imagine that in the future they're\", 'start': 110.24, 'duration': 4.839}, {'text': 'going to have even better methods of', 'start': 113.119, 'duration': 4.04}, {'text': 'figuring things out and that all these', 'start': 115.079, 'duration': 3.36}, {'text': \"things are going to evolve that they're\", 'start': 117.159, 'duration': 3.201}, {'text': \"not perfect and that they're going to\", 'start': 118.439, 'duration': 5.161}, {'text': 'just like continue to evolve', 'start': 120.36, 'duration': 7.039}, {'text': 'and if if we want to get to like what', 'start': 123.6, 'duration': 6.24}, {'text': 'alien civilization looks like when we', 'start': 127.399, 'duration': 5.681}, {'text': 'got want to get to like super insane', 'start': 129.84, 'duration': 5.6}, {'text': 'levels of Technology where they control', 'start': 133.08, 'duration': 5.28}, {'text': 'all of the atmosphere they they', 'start': 135.44, 'duration': 5.12}, {'text': 'literally can harness the power of stars', 'start': 138.36, 'duration': 4.92}, {'text': \"like there's so much work to do like\", 'start': 140.56, 'duration': 4.64}, {'text': \"there's so much everybody has to figure\", 'start': 143.28, 'duration': 4.2}, {'text': 'out and if he if Terrence Howard somehow', 'start': 145.2, 'duration': 4.28}, {'text': \"or another it's if it's the craziest\", 'start': 147.48, 'duration': 4.36}, {'text': 'story ever and Terence Howard is like', 'start': 149.48, 'duration': 3.68}, {'text': 'literally one of the smartest guys that', 'start': 151.84, 'duration': 5.28}, {'text': \"ever lived and he's got all these genius\", 'start': 153.16, 'duration': 6.12}, {'text': 'ideas and inventions and even though he', 'start': 157.12, 'duration': 4.199}, {'text': 'seems C it seems just insane that this', 'start': 159.28, 'duration': 4.4}, {'text': 'is coming from an actor this is from The', 'start': 161.319, 'duration': 4.28}, {'text': 'Hustle and Flow guy what Hey listen this', 'start': 163.68, 'duration': 4.12}, {'text': 'is from the Iron Man guy what he was in', 'start': 165.599, 'duration': 4.28}, {'text': 'Boomerang back in the day with Eddie', 'start': 167.8, 'duration': 5.12}, {'text': 'Murphy [\\xa0__\\xa0] Sunset Park he was', 'start': 169.879, 'duration': 6.481}, {'text': \"Spaceman like he has range he's like a\", 'start': 172.92, 'duration': 6.48}, {'text': \"modernday Daniel day yeah he's he's he's\", 'start': 176.36, 'duration': 4.72}, {'text': \"a great great actor but it's just\", 'start': 179.4, 'duration': 3.6}, {'text': \"because he's so smart and then he's\", 'start': 181.08, 'duration': 3.28}, {'text': \"talking about how the periodic table's\", 'start': 183.0, 'duration': 3.28}, {'text': 'all [\\xa0__\\xa0] up and this is what like wait', 'start': 184.36, 'duration': 3.599}, {'text': 'a minute wait a minute wait a minut wait', 'start': 186.28, 'duration': 4.4}, {'text': 'what are you doing how can you do this I', 'start': 187.959, 'duration': 4.64}, {'text': 'understand about because of music I', 'start': 190.68, 'duration': 3.839}, {'text': \"understand the way the I feel what he's\", 'start': 192.599, 'duration': 4.081}, {'text': 'saying yeah like stop trying to uncover', 'start': 194.519, 'duration': 5.241}, {'text': '[\\xa0__\\xa0] just all these little micro [\\xa0__\\xa0]', 'start': 196.68, 'duration': 5.559}, {'text': 'bullshits what do you mean I like I said', 'start': 199.76, 'duration': 3.96}, {'text': \"I'm a [\\xa0__\\xa0] idiot I'm trying to\", 'start': 202.239, 'duration': 3.841}, {'text': 'regurgitate what I heard like as far as', 'start': 203.72, 'duration': 5.64}, {'text': 'all the elements the elements in between', 'start': 206.08, 'duration': 6.2}, {'text': 'yeah like why are they there we when', 'start': 209.36, 'duration': 6.72}, {'text': \"they're just you I we you and I never\", 'start': 212.28, 'duration': 5.92}, {'text': \"explain this in a way that's not hugely\", 'start': 216.08, 'duration': 3.56}, {'text': 'frustrating to anybody who really knows', 'start': 218.2, 'duration': 2.8}, {'text': \"I can't even remember what I'm trying to\", 'start': 219.64, 'duration': 3.84}, {'text': 'say but you know the [\\xa0__\\xa0] the way he was', 'start': 221.0, 'duration': 3.799}, {'text': \"explaining how everything's connected\", 'start': 223.48, 'duration': 4.08}, {'text': 'exactly yeah and the entire um the the', 'start': 224.799, 'duration': 4.401}, {'text': 'whole scale of it and the way he was', 'start': 227.56, 'duration': 4.08}, {'text': 'showing it like a geometric pattern and', 'start': 229.2, 'duration': 3.759}, {'text': 'when you look at it like the way he was', 'start': 231.64, 'duration': 3.72}, {'text': \"describing it you're like oh wow that\", 'start': 232.959, 'duration': 4.64}, {'text': 'kind of makes more sense it does make', 'start': 235.36, 'duration': 4.64}, {'text': \"sense that's it I mean it just looks\", 'start': 237.599, 'duration': 4.92}, {'text': \"beautiful that's fire oh Jamie that's\", 'start': 240.0, 'duration': 4.879}, {'text': 'dope art I need to know if this is true', 'start': 242.519, 'duration': 4.161}, {'text': \"I'm going to send you this but it's so\", 'start': 244.879, 'duration': 4.401}, {'text': 'cool that I I hoped and prayed that it', 'start': 246.68, 'duration': 3.72}, {'text': \"was true and I didn't even want to\", 'start': 249.28, 'duration': 4.28}, {'text': \"Google it but it's that they took these\", 'start': 250.4, 'duration': 5.44}, {'text': 'photons I was trying to find that I saw', 'start': 253.56, 'duration': 4.48}, {'text': \"see it I didn't find I Googled it and\", 'start': 255.84, 'duration': 4.32}, {'text': \"couldn't find anything how could this be\", 'start': 258.04, 'duration': 5.0}, {'text': 'fake why would they be lying to me Jamie', 'start': 260.16, 'duration': 4.64}, {'text': 'why would they be lying to me Jamie it', 'start': 263.04, 'duration': 3.76}, {'text': 'was like uh what did they do there was', 'start': 264.8, 'duration': 4.0}, {'text': 'photons had what it looked like a yin', 'start': 266.8, 'duration': 4.16}, {'text': \"and yang I'll tell you what it is I'll\", 'start': 268.8, 'duration': 4.72}, {'text': \"send it to you again I'll send you the\", 'start': 270.96, 'duration': 4.959}, {'text': 'uh there like a very specific thing they', 'start': 273.52, 'duration': 5.08}, {'text': 'did to them yeah but and it revealed the', 'start': 275.919, 'duration': 3.961}, {'text': \"yin-yang that's what that's what it\", 'start': 278.6, 'duration': 3.599}, {'text': \"looks like it's Quantum entangled\", 'start': 279.88, 'duration': 6.319}, {'text': 'photons so this is what it looks like', 'start': 282.199, 'duration': 6.44}, {'text': \"that's Quantum entangled photons now\", 'start': 286.199, 'duration': 5.56}, {'text': 'again for the record I am a [\\xa0__\\xa0]', 'start': 288.639, 'duration': 4.881}, {'text': \"idiot okay I don't even know what that\", 'start': 291.759, 'duration': 3.44}, {'text': 'means I can say those words Quantum', 'start': 293.52, 'duration': 3.84}, {'text': 'entangled photons but you made me like', 'start': 295.199, 'duration': 6.121}, {'text': 'WR down and without Googling in an essay', 'start': 297.36, 'duration': 5.96}, {'text': 'what a Quantum entangled Photon exactly', 'start': 301.32, 'duration': 4.52}, {'text': 'is but what it look photons from from', 'start': 303.32, 'duration': 5.56}, {'text': 'light from sun yeah but this is the', 'start': 305.84, 'duration': 6.28}, {'text': 'thing Quantum yinyang shows two photons', 'start': 308.88, 'duration': 5.08}, {'text': \"being entangled in real time so it's\", 'start': 312.12, 'duration': 4.2}, {'text': 'true stunning experiment which', 'start': 313.96, 'duration': 4.28}, {'text': 'reconstructs the properties of entangled', 'start': 316.32, 'duration': 4.76}, {'text': 'protons from a 2d interface pattern', 'start': 318.24, 'duration': 5.16}, {'text': 'could be used to design faster quantum', 'start': 321.08, 'duration': 4.839}, {'text': 'computers and when you when you', 'start': 323.4, 'duration': 4.88}, {'text': 'quantumly entangle two photons they look', 'start': 325.919, 'duration': 4.881}, {'text': 'like a yin and yang', 'start': 328.28, 'duration': 5.199}, {'text': 'do you know how insane this is quantumly', 'start': 330.8, 'duration': 5.32}, {'text': \"entangled mean that's a very good\", 'start': 333.479, 'duration': 4.361}, {'text': 'question that I can say and it makes me', 'start': 336.12, 'duration': 5.519}, {'text': 'sound smarter quantumly entangled but I', 'start': 337.84, 'duration': 4.919}, {'text': \"I couldn't write that down without\", 'start': 341.639, 'duration': 3.241}, {'text': 'Googling it exactly the quantum', 'start': 342.759, 'duration': 5.0}, {'text': 'entanglement is it the mixture of these', 'start': 344.88, 'duration': 5.68}, {'text': 'photons together well I think what it is', 'start': 347.759, 'duration': 6.081}, {'text': 'is these particles are entangled in some', 'start': 350.56, 'duration': 5.88}, {'text': \"way where they don't have to be in the\", 'start': 353.84, 'duration': 5.56}, {'text': 'same place and time but they react to', 'start': 356.44, 'duration': 6.52}, {'text': \"each each other there's some method or\", 'start': 359.4, 'duration': 5.56}, {'text': 'some way of understanding how this is', 'start': 362.96, 'duration': 4.76}, {'text': \"done it's all\", 'start': 364.96, 'duration': 6.4}, {'text': 'squirly yellow legal pad chalkboard with', 'start': 367.72, 'duration': 5.319}, {'text': \"a bunch of squiggles that you don't\", 'start': 371.36, 'duration': 5.36}, {'text': 'understand bananas talk who have Quantum', 'start': 373.039, 'duration': 6.6}, {'text': \"entangled photons I don't know exactly\", 'start': 376.72, 'duration': 4.56}, {'text': \"how they do it it's a weird connection\", 'start': 379.639, 'duration': 3.801}, {'text': 'between two far apart particles that', 'start': 381.28, 'duration': 4.8}, {'text': 'Albert hin Albert Einstein objected to', 'start': 383.44, 'duration': 5.84}, {'text': 'as spooky action at a distance enables', 'start': 386.08, 'duration': 5.88}, {'text': 'two light particles or photons become', 'start': 389.28, 'duration': 5.12}, {'text': 'inextricably blound to each other so', 'start': 391.96, 'duration': 4.959}, {'text': 'that a change to one causes a change in', 'start': 394.4, 'duration': 5.239}, {'text': 'the other no matter how far apart they', 'start': 396.919, 'duration': 5.241}, {'text': 'are to make accurate predictions about a', 'start': 399.639, 'duration': 5.441}, {'text': 'Quantum object physicists need to find', 'start': 402.16, 'duration': 5.08}, {'text': 'its wave function a description of its', 'start': 405.08, 'duration': 4.839}, {'text': 'state existing in a superp position of', 'start': 407.24, 'duration': 4.84}, {'text': 'all the possible physical values a', 'start': 409.919, 'duration': 4.521}, {'text': 'photon can take and tanglement makes', 'start': 412.08, 'duration': 4.48}, {'text': 'finding the wave function of two', 'start': 414.44, 'duration': 4.599}, {'text': 'connected particles a challenge as any', 'start': 416.56, 'duration': 5.12}, {'text': 'measurement of one also causes an', 'start': 419.039, 'duration': 5.401}, {'text': 'instantaneous change in the other but', 'start': 421.68, 'duration': 4.72}, {'text': 'why are they depicted in different', 'start': 424.44, 'duration': 3.879}, {'text': 'shades and different colors first of all', 'start': 426.4, 'duration': 3.84}, {'text': \"I don't trust these super dorks at all\", 'start': 428.319, 'duration': 4.241}, {'text': 'look at the photos of those people yeah', 'start': 430.24, 'duration': 4.799}, {'text': \"I don't know man they're pretty\", 'start': 432.56, 'duration': 5.479}, {'text': \"young yeah they're all too smart I don't\", 'start': 435.039, 'duration': 4.6}, {'text': \"trust them they're they're speaking\", 'start': 438.039, 'duration': 4.201}, {'text': 'gibberish I need to see some old guys', 'start': 439.639, 'duration': 4.24}, {'text': 'scientists look at this scientists have', 'start': 442.24, 'duration': 3.12}, {'text': 'used a first of its kind technique to', 'start': 443.879, 'duration': 3.32}, {'text': 'visualize two entangled life particles', 'start': 445.36, 'duration': 3.839}, {'text': 'in real time making them appear as a', 'start': 447.199, 'duration': 4.961}, {'text': 'stun rning Quantum yin-yang symbol the', 'start': 449.199, 'duration': 5.641}, {'text': 'new method called bif Photon digital', 'start': 452.16, 'duration': 5.4}, {'text': 'holography uses an ultra high Precision', 'start': 454.84, 'duration': 5.68}, {'text': 'Camera and be can be used to massively', 'start': 457.56, 'duration': 5.079}, {'text': 'speed up future Quantum measurements', 'start': 460.52, 'duration': 3.6}, {'text': \"well then it's all [\\xa0__\\xa0] it's not\", 'start': 462.639, 'duration': 4.24}, {'text': \"it's not real time it's not real what do\", 'start': 464.12, 'duration': 5.199}, {'text': \"you mean it's a [\\xa0__\\xa0] it's like those\", 'start': 466.879, 'duration': 4.961}, {'text': \"super it's like the AI [\\xa0__\\xa0] that's not a\", 'start': 469.319, 'duration': 5.121}, {'text': 'real image they colored it and fixed it', 'start': 471.84, 'duration': 6.4}, {'text': 'and put fade and brightness and [\\xa0__\\xa0]', 'start': 474.44, 'duration': 5.68}, {'text': \"you know like how does that I don't know\", 'start': 478.24, 'duration': 5.399}, {'text': \"if they did you don't think so no um I I\", 'start': 480.12, 'duration': 6.16}, {'text': 'think whatever the light is on the right', 'start': 483.639, 'duration': 4.441}, {'text': \"there's like a different technique of\", 'start': 486.28, 'duration': 3.44}, {'text': 'measuring it like what what was the one', 'start': 488.08, 'duration': 3.679}, {'text': 'on the right like how did they do that', 'start': 489.72, 'duration': 4.319}, {'text': 'heat this is so this has a', 'start': 491.759, 'duration': 4.521}, {'text': \"reconstruction of a I'm going get\", 'start': 494.039, 'duration': 5.481}, {'text': \"[\\xa0__\\xa0] demolished I'm a total [\\xa0__\\xa0] no\", 'start': 496.28, 'duration': 5.16}, {'text': \"I think I think there's just two\", 'start': 499.52, 'duration': 5.04}, {'text': 'different ways of of Imaging', 'start': 501.44, 'duration': 5.319}, {'text': \"it so I don't think there's anything\", 'start': 504.56, 'duration': 4.039}, {'text': \"fake about it I think it's just a\", 'start': 506.759, 'duration': 5.441}, {'text': 'bizarre shape that exists in ancient', 'start': 508.599, 'duration': 5.68}, {'text': \"cultures and now they're finding out is\", 'start': 512.2, 'duration': 5.0}, {'text': 'actually two entangled photons yeah but', 'start': 514.279, 'duration': 6.2}, {'text': 'how who came up with all this', 'start': 517.2, 'duration': 6.04}, {'text': '[\\xa0__\\xa0] [\\xa0__\\xa0] holography like what', 'start': 520.479, 'duration': 4.601}, {'text': 'the [\\xa0__\\xa0] is that where did this come', 'start': 523.24, 'duration': 5.0}, {'text': 'from now scientist dudes and gals and', 'start': 525.08, 'duration': 6.439}, {'text': 'non-binary folk what is what is the', 'start': 528.24, 'duration': 5.84}, {'text': 'actual definition of yin-yang Jamie like', 'start': 531.519, 'duration': 5.081}, {'text': \"what does it exactly mean it's I know\", 'start': 534.08, 'duration': 5.92}, {'text': \"it's to be balance like and I knew like\", 'start': 536.6, 'duration': 4.679}, {'text': 'back when I was in high school all the', 'start': 540.0, 'duration': 3.76}, {'text': 'cool kids got yin-yang tattoos I want', 'start': 541.279, 'duration': 4.441}, {'text': \"one now now I want one now I'm thinking\", 'start': 543.76, 'duration': 4.0}, {'text': 'about getting one because of the quantum', 'start': 545.72, 'duration': 3.6}, {'text': \"thing but it's so it's such a it became\", 'start': 547.76, 'duration': 3.96}, {'text': 'a corny thing like a yin-yang became', 'start': 549.32, 'duration': 4.92}, {'text': 'corny yeah when I was young it was', 'start': 551.72, 'duration': 6.32}, {'text': 'like tribal mhm like I now I want tribal', 'start': 554.24, 'duration': 7.12}, {'text': 'or barbwire around the bicep yeah like', 'start': 558.04, 'duration': 5.239}, {'text': 'old days like Pam', 'start': 561.36, 'duration': 4.36}, {'text': 'Anderson a lot of wrestlers had it okay', 'start': 563.279, 'duration': 5.12}, {'text': \"so what does it mean Bagwell there's no\", 'start': 565.72, 'duration': 5.239}, {'text': \"a meaning are popping up there's not I\", 'start': 568.399, 'duration': 3.921}, {'text': \"don't know about specific definition\", 'start': 570.959, 'duration': 3.041}, {'text': 'because you got to define the just', 'start': 572.32, 'duration': 4.16}, {'text': 'Google that right there people also ask', 'start': 574.0, 'duration': 4.24}, {'text': 'go back and then what is the meaning of', 'start': 576.48, 'duration': 4.2}, {'text': 'yinyang click on that what do that say I', 'start': 578.24, 'duration': 5.0}, {'text': 'know it popped up a', 'start': 580.68, 'duration': 2.56}, {'text': \"video I can't just tell you you just\", 'start': 583.92, 'duration': 5.24}, {'text': 'tell me [\\xa0__\\xa0] write it down so what does', 'start': 586.399, 'duration': 6.401}, {'text': \"it mean it's a I mean it's it's a you\", 'start': 589.16, 'duration': 5.799}, {'text': 'have to describe both and then you have', 'start': 592.8, 'duration': 4.96}, {'text': \"to describe them both together it's like\", 'start': 594.959, 'duration': 4.12}, {'text': 'describing what is light and what is', 'start': 597.76, 'duration': 3.0}, {'text': 'dark', 'start': 599.079, 'duration': 4.081}, {'text': \"it's a philosophy it's an open-ended\", 'start': 600.76, 'duration': 5.199}, {'text': 'philosophy', 'start': 603.16, 'duration': 2.799}]\n"
   ]
  },
  {
   "cell_type": "code",
   "execution_count": 33,
   "metadata": {},
   "outputs": [
    {
     "name": "stdout",
     "output_type": "stream",
     "text": [
      "/home/dephinate/ASU/DL/RadicalAI/KaiOpenSource/kai-ai-backend\n"
     ]
    }
   ],
   "source": [
    "!pwd"
   ]
  },
  {
   "cell_type": "code",
   "execution_count": 34,
   "metadata": {},
   "outputs": [],
   "source": [
    "!export PROJECT_ID=\"rich-agency-421922\"\n",
    "!export ENV_TYPE=\"dev\"\n",
    "!export GOOGLE_APPLICATION_CREDENTIALS=\"api_key.json\"\n",
    "\n"
   ]
  },
  {
   "cell_type": "code",
   "execution_count": 24,
   "metadata": {},
   "outputs": [],
   "source": [
    "from typing import Any, Dict, List, Optional, Sequence, Union\n",
    "from enum import Enum\n",
    "from urllib.parse import parse_qs, urlparse\n",
    "from langchain_community.document_loaders.base import BaseLoader\n",
    "from langchain_core.documents import Document\n"
   ]
  },
  {
   "cell_type": "code",
   "execution_count": 22,
   "metadata": {},
   "outputs": [],
   "source": [
    "ALLOWED_SCHEMAS = {\"http\", \"https\"}\n",
    "ALLOWED_NETLOCK = {\n",
    "    \"youtu.be\",\n",
    "    \"m.youtube.com\",\n",
    "    \"youtube.com\",\n",
    "    \"www.youtube.com\",\n",
    "    \"www.youtube-nocookie.com\",\n",
    "    \"vid.plus\",\n",
    "}\n",
    "\n",
    "class TranscriptFormat(Enum):\n",
    "    \"\"\"Transcript format.\"\"\"\n",
    "\n",
    "    TEXT = \"text\"\n",
    "    LINES = \"lines\""
   ]
  },
  {
   "cell_type": "code",
   "execution_count": 34,
   "metadata": {},
   "outputs": [],
   "source": [
    "class YouTubeLoader(BaseLoader):\n",
    "    def __init__(\n",
    "        self,\n",
    "            video_id: str,\n",
    "            start_time : float = None,\n",
    "            end_time : float = None,\n",
    "            add_video_info: bool = False,\n",
    "            language: Union[str, Sequence[str]] = \"en\",\n",
    "            translation: Optional[str] = None,\n",
    "            transcript_format: TranscriptFormat = TranscriptFormat.TEXT,\n",
    "            continue_on_failure: bool = False\n",
    "        \n",
    "        ):\n",
    "            \"\"\"Initialize with YouTube video ID.\"\"\"\n",
    "            self.video_id = video_id\n",
    "            self.start_time = start_time\n",
    "            self.end_time = end_time\n",
    "            self.add_video_info = add_video_info\n",
    "            self.language = language\n",
    "            if isinstance(language, str):\n",
    "                self.language = [language]\n",
    "            else:\n",
    "                self.language = language\n",
    "            self.translation = translation\n",
    "            self.transcript_format = transcript_format\n",
    "            self.continue_on_failure = continue_on_failure\n",
    "\n",
    "    # Filer transcript text by time stamp\n",
    "    def filter_dicts_by_time_stamp(self,list_of_dicts, start=None, end=None):\n",
    "    # Define the filtering function based on the provided min and/or max values\n",
    "        # print(\"input to filter transcript: \",start,end,list_of_dicts)\n",
    "        def is_within_range(d):\n",
    "            print(\"inside is_within_range\", d,d['start'],start,end)\n",
    "\n",
    "            if start is not None and d['start'] < start:\n",
    "                return False\n",
    "            if end is not None and d['start'] > end:\n",
    "                return False\n",
    "            return True\n",
    "\n",
    "        # Apply the filtering function to the list\n",
    "        return [d for d in list_of_dicts if is_within_range(d)]\n",
    "\n",
    "    def load(self) -> List[Document]:\n",
    "        \"\"\"Load documents.\"\"\"\n",
    "        try:\n",
    "            from youtube_transcript_api import (\n",
    "                NoTranscriptFound,\n",
    "                TranscriptsDisabled,\n",
    "                YouTubeTranscriptApi,\n",
    "            )\n",
    "        except ImportError:\n",
    "            raise ImportError(\n",
    "                \"Could not import youtube_transcript_api python package. \"\n",
    "                \"Please install it with `pip install youtube-transcript-api`.\"\n",
    "            )\n",
    "        print(\"inside load_funcion\")\n",
    "\n",
    "        metadata = {\"source\": self.video_id}\n",
    "\n",
    "        if self.add_video_info:\n",
    "            # Get more video meta info\n",
    "            # Such as title, description, thumbnail url, publish_date\n",
    "            video_info = self._get_video_info()\n",
    "            metadata.update(video_info)\n",
    "\n",
    "        try:\n",
    "            transcript_list = YouTubeTranscriptApi.list_transcripts(self.video_id)\n",
    "            # print(\"transcript_language_list: \",transcript_list)\n",
    "        except TranscriptsDisabled:\n",
    "            return []\n",
    "\n",
    "        try:\n",
    "            transcript = transcript_list.find_transcript(self.language)\n",
    "\n",
    "        except NoTranscriptFound:\n",
    "            transcript = transcript_list.find_transcript([\"en\"])\n",
    "\n",
    "        if self.translation is not None:\n",
    "            transcript = transcript.translate(self.translation)\n",
    "\n",
    "        transcript_pieces = transcript.fetch()\n",
    "        # print(\"transcript_pieces: \",transcript_pieces)\n",
    "        \n",
    "        filetred_transcrpit_peices =[]\n",
    "        \n",
    "        # Time Stamp Retrieval\n",
    "        print(\"About to filter with start:\", self.start_time, \"and end:\", self.end_time)\n",
    "\n",
    "        filetred_transcrpit_peices = self.filter_dicts_by_time_stamp(list_of_dicts=transcript_pieces,start=self.start_time,end=self.end_time)\n",
    "        # filetred_transcrpit_peices = self.filter_dicts_by_time_stamp(list_of_dicts=transcript_pieces, start=self.start_time, end=self.end_time)\n",
    "        print(\"filetred_transcrpit_peices: \",filetred_transcrpit_peices)\n",
    "        if self.transcript_format == TranscriptFormat.TEXT:\n",
    "            transcript = \" \".join([t[\"text\"].strip(\" \") for t in filetred_transcrpit_peices])\n",
    "            return [Document(page_content=transcript, metadata=metadata)]\n",
    "        elif self.transcript_format == TranscriptFormat.LINES:\n",
    "            return [\n",
    "                Document(\n",
    "                    page_content=t[\"text\"].strip(\" \"),\n",
    "                    metadata=dict((key, t[key]) for key in t if key != \"text\"),\n",
    "                )\n",
    "                for t in filetred_transcrpit_peices\n",
    "            ]\n",
    "        else:\n",
    "            raise ValueError(\"Unknown transcript format.\")\n",
    "\n",
    "    def _get_video_info(self) -> dict:\n",
    "        \"\"\"Get important video information.\n",
    "\n",
    "        Components are:\n",
    "            - title\n",
    "            - description\n",
    "            - thumbnail url,\n",
    "            - publish_date\n",
    "            - channel_author\n",
    "            - and more.\n",
    "        \"\"\"\n",
    "        try:\n",
    "            from pytube import YouTube\n",
    "\n",
    "        except ImportError:\n",
    "            raise ImportError(\n",
    "                \"Could not import pytube python package. \"\n",
    "                \"Please install it with `pip install pytube`.\"\n",
    "            )\n",
    "        yt = YouTube(f\"https://www.youtube.com/watch?v={self.video_id}\")\n",
    "        video_info = {\n",
    "            \"title\": yt.title or \"Unknown\",\n",
    "            \"description\": yt.description or \"Unknown\",\n",
    "            \"view_count\": yt.views or 0,\n",
    "            \"thumbnail_url\": yt.thumbnail_url or \"Unknown\",\n",
    "            \"publish_date\": yt.publish_date.strftime(\"%Y-%m-%d %H:%M:%S\")\n",
    "            if yt.publish_date\n",
    "            else \"Unknown\",\n",
    "            \"length\": yt.length or 0,\n",
    "            \"author\": yt.author or \"Unknown\",\n",
    "        }\n",
    "        return video_info\n"
   ]
  },
  {
   "cell_type": "code",
   "execution_count": 35,
   "metadata": {},
   "outputs": [
    {
     "name": "stdout",
     "output_type": "stream",
     "text": [
      "inside load_funcion\n",
      "About to filter with start: 1 and end: 10\n",
      "inside is_within_range {'text': 'the jogan experience by the way I feel', 'start': 0.919, 'duration': 5.801} 0.919 1 10\n",
      "inside is_within_range {'text': 'like an [\\xa0__\\xa0] sometimes when I come on', 'start': 4.56, 'duration': 5.72} 4.56 1 10\n",
      "inside is_within_range {'text': \"here Terence Howard you I don't even\", 'start': 6.72, 'duration': 5.32} 6.72 1 10\n",
      "inside is_within_range {'text': 'know what to say I was like Googling', 'start': 10.28, 'duration': 4.72} 10.28 1 10\n",
      "inside is_within_range {'text': '[\\xa0__\\xa0] to talk about after that what the', 'start': 12.04, 'duration': 6.44} 12.04 1 10\n",
      "inside is_within_range {'text': '[\\xa0__\\xa0] what in the actual [\\xa0__\\xa0] I', 'start': 15.0, 'duration': 5.039} 15.0 1 10\n",
      "inside is_within_range {'text': 'understand it though I kind of', 'start': 18.48, 'duration': 4.32} 18.48 1 10\n",
      "inside is_within_range {'text': 'understand I understand it I understand', 'start': 20.039, 'duration': 4.441} 20.039 1 10\n",
      "inside is_within_range {'text': 'kind I mean it made', 'start': 22.8, 'duration': 5.479} 22.8 1 10\n",
      "inside is_within_range {'text': \"sense to me he's he's making me\", 'start': 24.48, 'duration': 7.52} 24.48 1 10\n",
      "inside is_within_range {'text': \"believe he's way too smart to just be\", 'start': 28.279, 'duration': 5.841} 28.279 1 10\n",
      "inside is_within_range {'text': \"making everything up like this there's\", 'start': 32.0, 'duration': 4.0} 32.0 1 10\n",
      "inside is_within_range {'text': \"no way he's just make he's a lunatic\", 'start': 34.12, 'duration': 4.04} 34.12 1 10\n",
      "inside is_within_range {'text': \"like I've heard people say you can't\", 'start': 36.0, 'duration': 4.52} 36.0 1 10\n",
      "inside is_within_range {'text': \"come making things I'm like I I don't\", 'start': 38.16, 'duration': 4.76} 38.16 1 10\n",
      "inside is_within_range {'text': \"think that's correct he knows too much\", 'start': 40.52, 'duration': 5.6} 40.52 1 10\n",
      "inside is_within_range {'text': \"so is he correct I don't know and then\", 'start': 42.92, 'duration': 5.2} 42.92 1 10\n",
      "inside is_within_range {'text': \"that's so that's what has what has to\", 'start': 46.12, 'duration': 4.24} 46.12 1 10\n",
      "inside is_within_range {'text': 'happen is Terrence Howard has to sit', 'start': 48.12, 'duration': 5.119} 48.12 1 10\n",
      "inside is_within_range {'text': \"down with someone who's uh an academic\", 'start': 50.36, 'duration': 4.879} 50.36 1 10\n",
      "inside is_within_range {'text': \"someone who's got a PhD and whatever\", 'start': 53.239, 'duration': 3.401} 53.239 1 10\n",
      "inside is_within_range {'text': \"discipline they're talking about and\", 'start': 55.239, 'duration': 3.201} 55.239 1 10\n",
      "inside is_within_range {'text': 'they can have a discussion and you can', 'start': 56.64, 'duration': 4.2} 56.64 1 10\n",
      "inside is_within_range {'text': 'see what he really knows knows and just', 'start': 58.44, 'duration': 5.0} 58.44 1 10\n",
      "inside is_within_range {'text': 'what he can say to me right it to me it', 'start': 60.84, 'duration': 4.359} 60.84 1 10\n",
      "inside is_within_range {'text': \"all makes sense but I'm a [\\xa0__\\xa0] no\", 'start': 63.44, 'duration': 2.999} 63.44 1 10\n",
      "inside is_within_range {'text': \"you're not but if you're talking to a\", 'start': 65.199, 'duration': 2.681} 65.199 1 10\n",
      "inside is_within_range {'text': \"mathematician or if you're talking to a\", 'start': 66.439, 'duration': 3.761} 66.439 1 10\n",
      "inside is_within_range {'text': 'physicist someone who actually can', 'start': 67.88, 'duration': 4.32} 67.88 1 10\n",
      "inside is_within_range {'text': 'understand what these computations mean', 'start': 70.2, 'duration': 3.88} 70.2 1 10\n",
      "inside is_within_range {'text': \"and what he's trying to say about one\", 'start': 72.2, 'duration': 4.72} 72.2 1 10\n",
      "inside is_within_range {'text': \"plus one or one multiplied by one can't\", 'start': 74.08, 'duration': 4.92} 74.08 1 10\n",
      "inside is_within_range {'text': 'be one like no mathematics everything is', 'start': 76.92, 'duration': 6.08} 76.92 1 10\n",
      "inside is_within_range {'text': \"[\\xa0__\\xa0] I believe that I was I wasn't\", 'start': 79.0, 'duration': 5.04} 79.0 1 10\n",
      "inside is_within_range {'text': 'good in', 'start': 83.0, 'duration': 4.52} 83.0 1 10\n",
      "inside is_within_range {'text': \"algebra I'm I see I see it more in a\", 'start': 84.04, 'duration': 5.28} 84.04 1 10\n",
      "inside is_within_range {'text': 'linear way not a linear way a different', 'start': 87.52, 'duration': 2.919} 87.52 1 10\n",
      "inside is_within_range {'text': 'way than him', 'start': 89.32, 'duration': 3.96} 89.32 1 10\n",
      "inside is_within_range {'text': 'like more similarly to him right well I', 'start': 90.439, 'duration': 5.121} 90.439 1 10\n",
      "inside is_within_range {'text': 'would imagine', 'start': 93.28, 'duration': 5.68} 93.28 1 10\n",
      "inside is_within_range {'text': \"that there's probably more to all all\", 'start': 95.56, 'duration': 6.96} 95.56 1 10\n",
      "inside is_within_range {'text': 'these things those [\\xa0__\\xa0] toys figures', 'start': 98.96, 'duration': 6.6} 98.96 1 10\n",
      "inside is_within_range {'text': 'even our mathematics like as brilliant', 'start': 102.52, 'duration': 5.32} 102.52 1 10\n",
      "inside is_within_range {'text': 'as the people are who have created all', 'start': 105.56, 'duration': 4.68} 105.56 1 10\n",
      "inside is_within_range {'text': \"the formulas that everyone's studying I\", 'start': 107.84, 'duration': 5.279} 107.84 1 10\n",
      "inside is_within_range {'text': \"would imagine that in the future they're\", 'start': 110.24, 'duration': 4.839} 110.24 1 10\n",
      "inside is_within_range {'text': 'going to have even better methods of', 'start': 113.119, 'duration': 4.04} 113.119 1 10\n",
      "inside is_within_range {'text': 'figuring things out and that all these', 'start': 115.079, 'duration': 3.36} 115.079 1 10\n",
      "inside is_within_range {'text': \"things are going to evolve that they're\", 'start': 117.159, 'duration': 3.201} 117.159 1 10\n",
      "inside is_within_range {'text': \"not perfect and that they're going to\", 'start': 118.439, 'duration': 5.161} 118.439 1 10\n",
      "inside is_within_range {'text': 'just like continue to evolve', 'start': 120.36, 'duration': 7.039} 120.36 1 10\n",
      "inside is_within_range {'text': 'and if if we want to get to like what', 'start': 123.6, 'duration': 6.24} 123.6 1 10\n",
      "inside is_within_range {'text': 'alien civilization looks like when we', 'start': 127.399, 'duration': 5.681} 127.399 1 10\n",
      "inside is_within_range {'text': 'got want to get to like super insane', 'start': 129.84, 'duration': 5.6} 129.84 1 10\n",
      "inside is_within_range {'text': 'levels of Technology where they control', 'start': 133.08, 'duration': 5.28} 133.08 1 10\n",
      "inside is_within_range {'text': 'all of the atmosphere they they', 'start': 135.44, 'duration': 5.12} 135.44 1 10\n",
      "inside is_within_range {'text': 'literally can harness the power of stars', 'start': 138.36, 'duration': 4.92} 138.36 1 10\n",
      "inside is_within_range {'text': \"like there's so much work to do like\", 'start': 140.56, 'duration': 4.64} 140.56 1 10\n",
      "inside is_within_range {'text': \"there's so much everybody has to figure\", 'start': 143.28, 'duration': 4.2} 143.28 1 10\n",
      "inside is_within_range {'text': 'out and if he if Terrence Howard somehow', 'start': 145.2, 'duration': 4.28} 145.2 1 10\n",
      "inside is_within_range {'text': \"or another it's if it's the craziest\", 'start': 147.48, 'duration': 4.36} 147.48 1 10\n",
      "inside is_within_range {'text': 'story ever and Terence Howard is like', 'start': 149.48, 'duration': 3.68} 149.48 1 10\n",
      "inside is_within_range {'text': 'literally one of the smartest guys that', 'start': 151.84, 'duration': 5.28} 151.84 1 10\n",
      "inside is_within_range {'text': \"ever lived and he's got all these genius\", 'start': 153.16, 'duration': 6.12} 153.16 1 10\n",
      "inside is_within_range {'text': 'ideas and inventions and even though he', 'start': 157.12, 'duration': 4.199} 157.12 1 10\n",
      "inside is_within_range {'text': 'seems C it seems just insane that this', 'start': 159.28, 'duration': 4.4} 159.28 1 10\n",
      "inside is_within_range {'text': 'is coming from an actor this is from The', 'start': 161.319, 'duration': 4.28} 161.319 1 10\n",
      "inside is_within_range {'text': 'Hustle and Flow guy what Hey listen this', 'start': 163.68, 'duration': 4.12} 163.68 1 10\n",
      "inside is_within_range {'text': 'is from the Iron Man guy what he was in', 'start': 165.599, 'duration': 4.28} 165.599 1 10\n",
      "inside is_within_range {'text': 'Boomerang back in the day with Eddie', 'start': 167.8, 'duration': 5.12} 167.8 1 10\n",
      "inside is_within_range {'text': 'Murphy [\\xa0__\\xa0] Sunset Park he was', 'start': 169.879, 'duration': 6.481} 169.879 1 10\n",
      "inside is_within_range {'text': \"Spaceman like he has range he's like a\", 'start': 172.92, 'duration': 6.48} 172.92 1 10\n",
      "inside is_within_range {'text': \"modernday Daniel day yeah he's he's he's\", 'start': 176.36, 'duration': 4.72} 176.36 1 10\n",
      "inside is_within_range {'text': \"a great great actor but it's just\", 'start': 179.4, 'duration': 3.6} 179.4 1 10\n",
      "inside is_within_range {'text': \"because he's so smart and then he's\", 'start': 181.08, 'duration': 3.28} 181.08 1 10\n",
      "inside is_within_range {'text': \"talking about how the periodic table's\", 'start': 183.0, 'duration': 3.28} 183.0 1 10\n",
      "inside is_within_range {'text': 'all [\\xa0__\\xa0] up and this is what like wait', 'start': 184.36, 'duration': 3.599} 184.36 1 10\n",
      "inside is_within_range {'text': 'a minute wait a minute wait a minut wait', 'start': 186.28, 'duration': 4.4} 186.28 1 10\n",
      "inside is_within_range {'text': 'what are you doing how can you do this I', 'start': 187.959, 'duration': 4.64} 187.959 1 10\n",
      "inside is_within_range {'text': 'understand about because of music I', 'start': 190.68, 'duration': 3.839} 190.68 1 10\n",
      "inside is_within_range {'text': \"understand the way the I feel what he's\", 'start': 192.599, 'duration': 4.081} 192.599 1 10\n",
      "inside is_within_range {'text': 'saying yeah like stop trying to uncover', 'start': 194.519, 'duration': 5.241} 194.519 1 10\n",
      "inside is_within_range {'text': '[\\xa0__\\xa0] just all these little micro [\\xa0__\\xa0]', 'start': 196.68, 'duration': 5.559} 196.68 1 10\n",
      "inside is_within_range {'text': 'bullshits what do you mean I like I said', 'start': 199.76, 'duration': 3.96} 199.76 1 10\n",
      "inside is_within_range {'text': \"I'm a [\\xa0__\\xa0] idiot I'm trying to\", 'start': 202.239, 'duration': 3.841} 202.239 1 10\n",
      "inside is_within_range {'text': 'regurgitate what I heard like as far as', 'start': 203.72, 'duration': 5.64} 203.72 1 10\n",
      "inside is_within_range {'text': 'all the elements the elements in between', 'start': 206.08, 'duration': 6.2} 206.08 1 10\n",
      "inside is_within_range {'text': 'yeah like why are they there we when', 'start': 209.36, 'duration': 6.72} 209.36 1 10\n",
      "inside is_within_range {'text': \"they're just you I we you and I never\", 'start': 212.28, 'duration': 5.92} 212.28 1 10\n",
      "inside is_within_range {'text': \"explain this in a way that's not hugely\", 'start': 216.08, 'duration': 3.56} 216.08 1 10\n",
      "inside is_within_range {'text': 'frustrating to anybody who really knows', 'start': 218.2, 'duration': 2.8} 218.2 1 10\n",
      "inside is_within_range {'text': \"I can't even remember what I'm trying to\", 'start': 219.64, 'duration': 3.84} 219.64 1 10\n",
      "inside is_within_range {'text': 'say but you know the [\\xa0__\\xa0] the way he was', 'start': 221.0, 'duration': 3.799} 221.0 1 10\n",
      "inside is_within_range {'text': \"explaining how everything's connected\", 'start': 223.48, 'duration': 4.08} 223.48 1 10\n",
      "inside is_within_range {'text': 'exactly yeah and the entire um the the', 'start': 224.799, 'duration': 4.401} 224.799 1 10\n",
      "inside is_within_range {'text': 'whole scale of it and the way he was', 'start': 227.56, 'duration': 4.08} 227.56 1 10\n",
      "inside is_within_range {'text': 'showing it like a geometric pattern and', 'start': 229.2, 'duration': 3.759} 229.2 1 10\n",
      "inside is_within_range {'text': 'when you look at it like the way he was', 'start': 231.64, 'duration': 3.72} 231.64 1 10\n",
      "inside is_within_range {'text': \"describing it you're like oh wow that\", 'start': 232.959, 'duration': 4.64} 232.959 1 10\n",
      "inside is_within_range {'text': 'kind of makes more sense it does make', 'start': 235.36, 'duration': 4.64} 235.36 1 10\n",
      "inside is_within_range {'text': \"sense that's it I mean it just looks\", 'start': 237.599, 'duration': 4.92} 237.599 1 10\n",
      "inside is_within_range {'text': \"beautiful that's fire oh Jamie that's\", 'start': 240.0, 'duration': 4.879} 240.0 1 10\n",
      "inside is_within_range {'text': 'dope art I need to know if this is true', 'start': 242.519, 'duration': 4.161} 242.519 1 10\n",
      "inside is_within_range {'text': \"I'm going to send you this but it's so\", 'start': 244.879, 'duration': 4.401} 244.879 1 10\n",
      "inside is_within_range {'text': 'cool that I I hoped and prayed that it', 'start': 246.68, 'duration': 3.72} 246.68 1 10\n",
      "inside is_within_range {'text': \"was true and I didn't even want to\", 'start': 249.28, 'duration': 4.28} 249.28 1 10\n",
      "inside is_within_range {'text': \"Google it but it's that they took these\", 'start': 250.4, 'duration': 5.44} 250.4 1 10\n",
      "inside is_within_range {'text': 'photons I was trying to find that I saw', 'start': 253.56, 'duration': 4.48} 253.56 1 10\n",
      "inside is_within_range {'text': \"see it I didn't find I Googled it and\", 'start': 255.84, 'duration': 4.32} 255.84 1 10\n",
      "inside is_within_range {'text': \"couldn't find anything how could this be\", 'start': 258.04, 'duration': 5.0} 258.04 1 10\n",
      "inside is_within_range {'text': 'fake why would they be lying to me Jamie', 'start': 260.16, 'duration': 4.64} 260.16 1 10\n",
      "inside is_within_range {'text': 'why would they be lying to me Jamie it', 'start': 263.04, 'duration': 3.76} 263.04 1 10\n",
      "inside is_within_range {'text': 'was like uh what did they do there was', 'start': 264.8, 'duration': 4.0} 264.8 1 10\n",
      "inside is_within_range {'text': 'photons had what it looked like a yin', 'start': 266.8, 'duration': 4.16} 266.8 1 10\n",
      "inside is_within_range {'text': \"and yang I'll tell you what it is I'll\", 'start': 268.8, 'duration': 4.72} 268.8 1 10\n",
      "inside is_within_range {'text': \"send it to you again I'll send you the\", 'start': 270.96, 'duration': 4.959} 270.96 1 10\n",
      "inside is_within_range {'text': 'uh there like a very specific thing they', 'start': 273.52, 'duration': 5.08} 273.52 1 10\n",
      "inside is_within_range {'text': 'did to them yeah but and it revealed the', 'start': 275.919, 'duration': 3.961} 275.919 1 10\n",
      "inside is_within_range {'text': \"yin-yang that's what that's what it\", 'start': 278.6, 'duration': 3.599} 278.6 1 10\n",
      "inside is_within_range {'text': \"looks like it's Quantum entangled\", 'start': 279.88, 'duration': 6.319} 279.88 1 10\n",
      "inside is_within_range {'text': 'photons so this is what it looks like', 'start': 282.199, 'duration': 6.44} 282.199 1 10\n",
      "inside is_within_range {'text': \"that's Quantum entangled photons now\", 'start': 286.199, 'duration': 5.56} 286.199 1 10\n",
      "inside is_within_range {'text': 'again for the record I am a [\\xa0__\\xa0]', 'start': 288.639, 'duration': 4.881} 288.639 1 10\n",
      "inside is_within_range {'text': \"idiot okay I don't even know what that\", 'start': 291.759, 'duration': 3.44} 291.759 1 10\n",
      "inside is_within_range {'text': 'means I can say those words Quantum', 'start': 293.52, 'duration': 3.84} 293.52 1 10\n",
      "inside is_within_range {'text': 'entangled photons but you made me like', 'start': 295.199, 'duration': 6.121} 295.199 1 10\n",
      "inside is_within_range {'text': 'WR down and without Googling in an essay', 'start': 297.36, 'duration': 5.96} 297.36 1 10\n",
      "inside is_within_range {'text': 'what a Quantum entangled Photon exactly', 'start': 301.32, 'duration': 4.52} 301.32 1 10\n",
      "inside is_within_range {'text': 'is but what it look photons from from', 'start': 303.32, 'duration': 5.56} 303.32 1 10\n",
      "inside is_within_range {'text': 'light from sun yeah but this is the', 'start': 305.84, 'duration': 6.28} 305.84 1 10\n",
      "inside is_within_range {'text': 'thing Quantum yinyang shows two photons', 'start': 308.88, 'duration': 5.08} 308.88 1 10\n",
      "inside is_within_range {'text': \"being entangled in real time so it's\", 'start': 312.12, 'duration': 4.2} 312.12 1 10\n",
      "inside is_within_range {'text': 'true stunning experiment which', 'start': 313.96, 'duration': 4.28} 313.96 1 10\n",
      "inside is_within_range {'text': 'reconstructs the properties of entangled', 'start': 316.32, 'duration': 4.76} 316.32 1 10\n",
      "inside is_within_range {'text': 'protons from a 2d interface pattern', 'start': 318.24, 'duration': 5.16} 318.24 1 10\n",
      "inside is_within_range {'text': 'could be used to design faster quantum', 'start': 321.08, 'duration': 4.839} 321.08 1 10\n",
      "inside is_within_range {'text': 'computers and when you when you', 'start': 323.4, 'duration': 4.88} 323.4 1 10\n",
      "inside is_within_range {'text': 'quantumly entangle two photons they look', 'start': 325.919, 'duration': 4.881} 325.919 1 10\n",
      "inside is_within_range {'text': 'like a yin and yang', 'start': 328.28, 'duration': 5.199} 328.28 1 10\n",
      "inside is_within_range {'text': 'do you know how insane this is quantumly', 'start': 330.8, 'duration': 5.32} 330.8 1 10\n",
      "inside is_within_range {'text': \"entangled mean that's a very good\", 'start': 333.479, 'duration': 4.361} 333.479 1 10\n",
      "inside is_within_range {'text': 'question that I can say and it makes me', 'start': 336.12, 'duration': 5.519} 336.12 1 10\n",
      "inside is_within_range {'text': 'sound smarter quantumly entangled but I', 'start': 337.84, 'duration': 4.919} 337.84 1 10\n",
      "inside is_within_range {'text': \"I couldn't write that down without\", 'start': 341.639, 'duration': 3.241} 341.639 1 10\n",
      "inside is_within_range {'text': 'Googling it exactly the quantum', 'start': 342.759, 'duration': 5.0} 342.759 1 10\n",
      "inside is_within_range {'text': 'entanglement is it the mixture of these', 'start': 344.88, 'duration': 5.68} 344.88 1 10\n",
      "inside is_within_range {'text': 'photons together well I think what it is', 'start': 347.759, 'duration': 6.081} 347.759 1 10\n",
      "inside is_within_range {'text': 'is these particles are entangled in some', 'start': 350.56, 'duration': 5.88} 350.56 1 10\n",
      "inside is_within_range {'text': \"way where they don't have to be in the\", 'start': 353.84, 'duration': 5.56} 353.84 1 10\n",
      "inside is_within_range {'text': 'same place and time but they react to', 'start': 356.44, 'duration': 6.52} 356.44 1 10\n",
      "inside is_within_range {'text': \"each each other there's some method or\", 'start': 359.4, 'duration': 5.56} 359.4 1 10\n",
      "inside is_within_range {'text': 'some way of understanding how this is', 'start': 362.96, 'duration': 4.76} 362.96 1 10\n",
      "inside is_within_range {'text': \"done it's all\", 'start': 364.96, 'duration': 6.4} 364.96 1 10\n",
      "inside is_within_range {'text': 'squirly yellow legal pad chalkboard with', 'start': 367.72, 'duration': 5.319} 367.72 1 10\n",
      "inside is_within_range {'text': \"a bunch of squiggles that you don't\", 'start': 371.36, 'duration': 5.36} 371.36 1 10\n",
      "inside is_within_range {'text': 'understand bananas talk who have Quantum', 'start': 373.039, 'duration': 6.6} 373.039 1 10\n",
      "inside is_within_range {'text': \"entangled photons I don't know exactly\", 'start': 376.72, 'duration': 4.56} 376.72 1 10\n",
      "inside is_within_range {'text': \"how they do it it's a weird connection\", 'start': 379.639, 'duration': 3.801} 379.639 1 10\n",
      "inside is_within_range {'text': 'between two far apart particles that', 'start': 381.28, 'duration': 4.8} 381.28 1 10\n",
      "inside is_within_range {'text': 'Albert hin Albert Einstein objected to', 'start': 383.44, 'duration': 5.84} 383.44 1 10\n",
      "inside is_within_range {'text': 'as spooky action at a distance enables', 'start': 386.08, 'duration': 5.88} 386.08 1 10\n",
      "inside is_within_range {'text': 'two light particles or photons become', 'start': 389.28, 'duration': 5.12} 389.28 1 10\n",
      "inside is_within_range {'text': 'inextricably blound to each other so', 'start': 391.96, 'duration': 4.959} 391.96 1 10\n",
      "inside is_within_range {'text': 'that a change to one causes a change in', 'start': 394.4, 'duration': 5.239} 394.4 1 10\n",
      "inside is_within_range {'text': 'the other no matter how far apart they', 'start': 396.919, 'duration': 5.241} 396.919 1 10\n",
      "inside is_within_range {'text': 'are to make accurate predictions about a', 'start': 399.639, 'duration': 5.441} 399.639 1 10\n",
      "inside is_within_range {'text': 'Quantum object physicists need to find', 'start': 402.16, 'duration': 5.08} 402.16 1 10\n",
      "inside is_within_range {'text': 'its wave function a description of its', 'start': 405.08, 'duration': 4.839} 405.08 1 10\n",
      "inside is_within_range {'text': 'state existing in a superp position of', 'start': 407.24, 'duration': 4.84} 407.24 1 10\n",
      "inside is_within_range {'text': 'all the possible physical values a', 'start': 409.919, 'duration': 4.521} 409.919 1 10\n",
      "inside is_within_range {'text': 'photon can take and tanglement makes', 'start': 412.08, 'duration': 4.48} 412.08 1 10\n",
      "inside is_within_range {'text': 'finding the wave function of two', 'start': 414.44, 'duration': 4.599} 414.44 1 10\n",
      "inside is_within_range {'text': 'connected particles a challenge as any', 'start': 416.56, 'duration': 5.12} 416.56 1 10\n",
      "inside is_within_range {'text': 'measurement of one also causes an', 'start': 419.039, 'duration': 5.401} 419.039 1 10\n",
      "inside is_within_range {'text': 'instantaneous change in the other but', 'start': 421.68, 'duration': 4.72} 421.68 1 10\n",
      "inside is_within_range {'text': 'why are they depicted in different', 'start': 424.44, 'duration': 3.879} 424.44 1 10\n",
      "inside is_within_range {'text': 'shades and different colors first of all', 'start': 426.4, 'duration': 3.84} 426.4 1 10\n",
      "inside is_within_range {'text': \"I don't trust these super dorks at all\", 'start': 428.319, 'duration': 4.241} 428.319 1 10\n",
      "inside is_within_range {'text': 'look at the photos of those people yeah', 'start': 430.24, 'duration': 4.799} 430.24 1 10\n",
      "inside is_within_range {'text': \"I don't know man they're pretty\", 'start': 432.56, 'duration': 5.479} 432.56 1 10\n",
      "inside is_within_range {'text': \"young yeah they're all too smart I don't\", 'start': 435.039, 'duration': 4.6} 435.039 1 10\n",
      "inside is_within_range {'text': \"trust them they're they're speaking\", 'start': 438.039, 'duration': 4.201} 438.039 1 10\n",
      "inside is_within_range {'text': 'gibberish I need to see some old guys', 'start': 439.639, 'duration': 4.24} 439.639 1 10\n",
      "inside is_within_range {'text': 'scientists look at this scientists have', 'start': 442.24, 'duration': 3.12} 442.24 1 10\n",
      "inside is_within_range {'text': 'used a first of its kind technique to', 'start': 443.879, 'duration': 3.32} 443.879 1 10\n",
      "inside is_within_range {'text': 'visualize two entangled life particles', 'start': 445.36, 'duration': 3.839} 445.36 1 10\n",
      "inside is_within_range {'text': 'in real time making them appear as a', 'start': 447.199, 'duration': 4.961} 447.199 1 10\n",
      "inside is_within_range {'text': 'stun rning Quantum yin-yang symbol the', 'start': 449.199, 'duration': 5.641} 449.199 1 10\n",
      "inside is_within_range {'text': 'new method called bif Photon digital', 'start': 452.16, 'duration': 5.4} 452.16 1 10\n",
      "inside is_within_range {'text': 'holography uses an ultra high Precision', 'start': 454.84, 'duration': 5.68} 454.84 1 10\n",
      "inside is_within_range {'text': 'Camera and be can be used to massively', 'start': 457.56, 'duration': 5.079} 457.56 1 10\n",
      "inside is_within_range {'text': 'speed up future Quantum measurements', 'start': 460.52, 'duration': 3.6} 460.52 1 10\n",
      "inside is_within_range {'text': \"well then it's all [\\xa0__\\xa0] it's not\", 'start': 462.639, 'duration': 4.24} 462.639 1 10\n",
      "inside is_within_range {'text': \"it's not real time it's not real what do\", 'start': 464.12, 'duration': 5.199} 464.12 1 10\n",
      "inside is_within_range {'text': \"you mean it's a [\\xa0__\\xa0] it's like those\", 'start': 466.879, 'duration': 4.961} 466.879 1 10\n",
      "inside is_within_range {'text': \"super it's like the AI [\\xa0__\\xa0] that's not a\", 'start': 469.319, 'duration': 5.121} 469.319 1 10\n",
      "inside is_within_range {'text': 'real image they colored it and fixed it', 'start': 471.84, 'duration': 6.4} 471.84 1 10\n",
      "inside is_within_range {'text': 'and put fade and brightness and [\\xa0__\\xa0]', 'start': 474.44, 'duration': 5.68} 474.44 1 10\n",
      "inside is_within_range {'text': \"you know like how does that I don't know\", 'start': 478.24, 'duration': 5.399} 478.24 1 10\n",
      "inside is_within_range {'text': \"if they did you don't think so no um I I\", 'start': 480.12, 'duration': 6.16} 480.12 1 10\n",
      "inside is_within_range {'text': 'think whatever the light is on the right', 'start': 483.639, 'duration': 4.441} 483.639 1 10\n",
      "inside is_within_range {'text': \"there's like a different technique of\", 'start': 486.28, 'duration': 3.44} 486.28 1 10\n",
      "inside is_within_range {'text': 'measuring it like what what was the one', 'start': 488.08, 'duration': 3.679} 488.08 1 10\n",
      "inside is_within_range {'text': 'on the right like how did they do that', 'start': 489.72, 'duration': 4.319} 489.72 1 10\n",
      "inside is_within_range {'text': 'heat this is so this has a', 'start': 491.759, 'duration': 4.521} 491.759 1 10\n",
      "inside is_within_range {'text': \"reconstruction of a I'm going get\", 'start': 494.039, 'duration': 5.481} 494.039 1 10\n",
      "inside is_within_range {'text': \"[\\xa0__\\xa0] demolished I'm a total [\\xa0__\\xa0] no\", 'start': 496.28, 'duration': 5.16} 496.28 1 10\n",
      "inside is_within_range {'text': \"I think I think there's just two\", 'start': 499.52, 'duration': 5.04} 499.52 1 10\n",
      "inside is_within_range {'text': 'different ways of of Imaging', 'start': 501.44, 'duration': 5.319} 501.44 1 10\n",
      "inside is_within_range {'text': \"it so I don't think there's anything\", 'start': 504.56, 'duration': 4.039} 504.56 1 10\n",
      "inside is_within_range {'text': \"fake about it I think it's just a\", 'start': 506.759, 'duration': 5.441} 506.759 1 10\n",
      "inside is_within_range {'text': 'bizarre shape that exists in ancient', 'start': 508.599, 'duration': 5.68} 508.599 1 10\n",
      "inside is_within_range {'text': \"cultures and now they're finding out is\", 'start': 512.2, 'duration': 5.0} 512.2 1 10\n",
      "inside is_within_range {'text': 'actually two entangled photons yeah but', 'start': 514.279, 'duration': 6.2} 514.279 1 10\n",
      "inside is_within_range {'text': 'how who came up with all this', 'start': 517.2, 'duration': 6.04} 517.2 1 10\n",
      "inside is_within_range {'text': '[\\xa0__\\xa0] [\\xa0__\\xa0] holography like what', 'start': 520.479, 'duration': 4.601} 520.479 1 10\n",
      "inside is_within_range {'text': 'the [\\xa0__\\xa0] is that where did this come', 'start': 523.24, 'duration': 5.0} 523.24 1 10\n",
      "inside is_within_range {'text': 'from now scientist dudes and gals and', 'start': 525.08, 'duration': 6.439} 525.08 1 10\n",
      "inside is_within_range {'text': 'non-binary folk what is what is the', 'start': 528.24, 'duration': 5.84} 528.24 1 10\n",
      "inside is_within_range {'text': 'actual definition of yin-yang Jamie like', 'start': 531.519, 'duration': 5.081} 531.519 1 10\n",
      "inside is_within_range {'text': \"what does it exactly mean it's I know\", 'start': 534.08, 'duration': 5.92} 534.08 1 10\n",
      "inside is_within_range {'text': \"it's to be balance like and I knew like\", 'start': 536.6, 'duration': 4.679} 536.6 1 10\n",
      "inside is_within_range {'text': 'back when I was in high school all the', 'start': 540.0, 'duration': 3.76} 540.0 1 10\n",
      "inside is_within_range {'text': 'cool kids got yin-yang tattoos I want', 'start': 541.279, 'duration': 4.441} 541.279 1 10\n",
      "inside is_within_range {'text': \"one now now I want one now I'm thinking\", 'start': 543.76, 'duration': 4.0} 543.76 1 10\n",
      "inside is_within_range {'text': 'about getting one because of the quantum', 'start': 545.72, 'duration': 3.6} 545.72 1 10\n",
      "inside is_within_range {'text': \"thing but it's so it's such a it became\", 'start': 547.76, 'duration': 3.96} 547.76 1 10\n",
      "inside is_within_range {'text': 'a corny thing like a yin-yang became', 'start': 549.32, 'duration': 4.92} 549.32 1 10\n",
      "inside is_within_range {'text': 'corny yeah when I was young it was', 'start': 551.72, 'duration': 6.32} 551.72 1 10\n",
      "inside is_within_range {'text': 'like tribal mhm like I now I want tribal', 'start': 554.24, 'duration': 7.12} 554.24 1 10\n",
      "inside is_within_range {'text': 'or barbwire around the bicep yeah like', 'start': 558.04, 'duration': 5.239} 558.04 1 10\n",
      "inside is_within_range {'text': 'old days like Pam', 'start': 561.36, 'duration': 4.36} 561.36 1 10\n",
      "inside is_within_range {'text': 'Anderson a lot of wrestlers had it okay', 'start': 563.279, 'duration': 5.12} 563.279 1 10\n",
      "inside is_within_range {'text': \"so what does it mean Bagwell there's no\", 'start': 565.72, 'duration': 5.239} 565.72 1 10\n",
      "inside is_within_range {'text': \"a meaning are popping up there's not I\", 'start': 568.399, 'duration': 3.921} 568.399 1 10\n",
      "inside is_within_range {'text': \"don't know about specific definition\", 'start': 570.959, 'duration': 3.041} 570.959 1 10\n",
      "inside is_within_range {'text': 'because you got to define the just', 'start': 572.32, 'duration': 4.16} 572.32 1 10\n",
      "inside is_within_range {'text': 'Google that right there people also ask', 'start': 574.0, 'duration': 4.24} 574.0 1 10\n",
      "inside is_within_range {'text': 'go back and then what is the meaning of', 'start': 576.48, 'duration': 4.2} 576.48 1 10\n",
      "inside is_within_range {'text': 'yinyang click on that what do that say I', 'start': 578.24, 'duration': 5.0} 578.24 1 10\n",
      "inside is_within_range {'text': 'know it popped up a', 'start': 580.68, 'duration': 2.56} 580.68 1 10\n",
      "inside is_within_range {'text': \"video I can't just tell you you just\", 'start': 583.92, 'duration': 5.24} 583.92 1 10\n",
      "inside is_within_range {'text': 'tell me [\\xa0__\\xa0] write it down so what does', 'start': 586.399, 'duration': 6.401} 586.399 1 10\n",
      "inside is_within_range {'text': \"it mean it's a I mean it's it's a you\", 'start': 589.16, 'duration': 5.799} 589.16 1 10\n",
      "inside is_within_range {'text': 'have to describe both and then you have', 'start': 592.8, 'duration': 4.96} 592.8 1 10\n",
      "inside is_within_range {'text': \"to describe them both together it's like\", 'start': 594.959, 'duration': 4.12} 594.959 1 10\n",
      "inside is_within_range {'text': 'describing what is light and what is', 'start': 597.76, 'duration': 3.0} 597.76 1 10\n",
      "inside is_within_range {'text': 'dark', 'start': 599.079, 'duration': 4.081} 599.079 1 10\n",
      "inside is_within_range {'text': \"it's a philosophy it's an open-ended\", 'start': 600.76, 'duration': 5.199} 600.76 1 10\n",
      "inside is_within_range {'text': 'philosophy', 'start': 603.16, 'duration': 2.799} 603.16 1 10\n",
      "filetred_transcrpit_peices:  [{'text': 'like an [\\xa0__\\xa0] sometimes when I come on', 'start': 4.56, 'duration': 5.72}, {'text': \"here Terence Howard you I don't even\", 'start': 6.72, 'duration': 5.32}]\n"
     ]
    }
   ],
   "source": [
    "loader = YouTubeLoader(video_id=\"bBBmlzRtQ74\",start_time=1, end_time=10, add_video_info=True)\n",
    "docs = loader.load()"
   ]
  },
  {
   "cell_type": "code",
   "execution_count": 33,
   "metadata": {},
   "outputs": [
    {
     "data": {
      "text/plain": [
       "[Document(page_content=\"like an [\\xa0__\\xa0] sometimes when I come on here Terence Howard you I don't even\", metadata={'source': 'bBBmlzRtQ74', 'title': 'Action Bronson Believes in Terrence Howard', 'description': 'Unknown', 'view_count': 56418, 'thumbnail_url': 'https://i.ytimg.com/vi/bBBmlzRtQ74/hq720.jpg', 'publish_date': '2024-06-13 00:00:00', 'length': 604, 'author': 'JRE Clips'})]"
      ]
     },
     "execution_count": 33,
     "metadata": {},
     "output_type": "execute_result"
    }
   ],
   "source": [
    "len(docs)\n",
    "docs"
   ]
  },
  {
   "cell_type": "code",
   "execution_count": 14,
   "metadata": {},
   "outputs": [],
   "source": [
    "class YouTubeLoader():\n",
    "\n",
    "    def filter_dicts_by_time_stamp(self,list_of_dicts, start=None, end=None):\n",
    "    # Define the filtering function based on the provided min and/or max values\n",
    "        # print(\"input to filter transcript: \",start,end,list_of_dicts)\n",
    "        def is_within_range(d):\n",
    "            if start is not None and d['start'] < start:\n",
    "                return False\n",
    "            if end is not None and d['start'] > end:\n",
    "                return False\n",
    "            return True\n",
    "\n",
    "        # Apply the filtering function to the list\n",
    "        return [d for d in list_of_dicts if is_within_range(d)]"
   ]
  },
  {
   "cell_type": "code",
   "execution_count": 27,
   "metadata": {},
   "outputs": [
    {
     "name": "stdout",
     "output_type": "stream",
     "text": [
      "inside load_funcion\n",
      "transcript_pieces:  [{'text': 'the jogan experience by the way I feel', 'start': 0.919, 'duration': 5.801}, {'text': 'like an [\\xa0__\\xa0] sometimes when I come on', 'start': 4.56, 'duration': 5.72}, {'text': \"here Terence Howard you I don't even\", 'start': 6.72, 'duration': 5.32}, {'text': 'know what to say I was like Googling', 'start': 10.28, 'duration': 4.72}, {'text': '[\\xa0__\\xa0] to talk about after that what the', 'start': 12.04, 'duration': 6.44}, {'text': '[\\xa0__\\xa0] what in the actual [\\xa0__\\xa0] I', 'start': 15.0, 'duration': 5.039}, {'text': 'understand it though I kind of', 'start': 18.48, 'duration': 4.32}, {'text': 'understand I understand it I understand', 'start': 20.039, 'duration': 4.441}, {'text': 'kind I mean it made', 'start': 22.8, 'duration': 5.479}, {'text': \"sense to me he's he's making me\", 'start': 24.48, 'duration': 7.52}, {'text': \"believe he's way too smart to just be\", 'start': 28.279, 'duration': 5.841}, {'text': \"making everything up like this there's\", 'start': 32.0, 'duration': 4.0}, {'text': \"no way he's just make he's a lunatic\", 'start': 34.12, 'duration': 4.04}, {'text': \"like I've heard people say you can't\", 'start': 36.0, 'duration': 4.52}, {'text': \"come making things I'm like I I don't\", 'start': 38.16, 'duration': 4.76}, {'text': \"think that's correct he knows too much\", 'start': 40.52, 'duration': 5.6}, {'text': \"so is he correct I don't know and then\", 'start': 42.92, 'duration': 5.2}, {'text': \"that's so that's what has what has to\", 'start': 46.12, 'duration': 4.24}, {'text': 'happen is Terrence Howard has to sit', 'start': 48.12, 'duration': 5.119}, {'text': \"down with someone who's uh an academic\", 'start': 50.36, 'duration': 4.879}, {'text': \"someone who's got a PhD and whatever\", 'start': 53.239, 'duration': 3.401}, {'text': \"discipline they're talking about and\", 'start': 55.239, 'duration': 3.201}, {'text': 'they can have a discussion and you can', 'start': 56.64, 'duration': 4.2}, {'text': 'see what he really knows knows and just', 'start': 58.44, 'duration': 5.0}, {'text': 'what he can say to me right it to me it', 'start': 60.84, 'duration': 4.359}, {'text': \"all makes sense but I'm a [\\xa0__\\xa0] no\", 'start': 63.44, 'duration': 2.999}, {'text': \"you're not but if you're talking to a\", 'start': 65.199, 'duration': 2.681}, {'text': \"mathematician or if you're talking to a\", 'start': 66.439, 'duration': 3.761}, {'text': 'physicist someone who actually can', 'start': 67.88, 'duration': 4.32}, {'text': 'understand what these computations mean', 'start': 70.2, 'duration': 3.88}, {'text': \"and what he's trying to say about one\", 'start': 72.2, 'duration': 4.72}, {'text': \"plus one or one multiplied by one can't\", 'start': 74.08, 'duration': 4.92}, {'text': 'be one like no mathematics everything is', 'start': 76.92, 'duration': 6.08}, {'text': \"[\\xa0__\\xa0] I believe that I was I wasn't\", 'start': 79.0, 'duration': 5.04}, {'text': 'good in', 'start': 83.0, 'duration': 4.52}, {'text': \"algebra I'm I see I see it more in a\", 'start': 84.04, 'duration': 5.28}, {'text': 'linear way not a linear way a different', 'start': 87.52, 'duration': 2.919}, {'text': 'way than him', 'start': 89.32, 'duration': 3.96}, {'text': 'like more similarly to him right well I', 'start': 90.439, 'duration': 5.121}, {'text': 'would imagine', 'start': 93.28, 'duration': 5.68}, {'text': \"that there's probably more to all all\", 'start': 95.56, 'duration': 6.96}, {'text': 'these things those [\\xa0__\\xa0] toys figures', 'start': 98.96, 'duration': 6.6}, {'text': 'even our mathematics like as brilliant', 'start': 102.52, 'duration': 5.32}, {'text': 'as the people are who have created all', 'start': 105.56, 'duration': 4.68}, {'text': \"the formulas that everyone's studying I\", 'start': 107.84, 'duration': 5.279}, {'text': \"would imagine that in the future they're\", 'start': 110.24, 'duration': 4.839}, {'text': 'going to have even better methods of', 'start': 113.119, 'duration': 4.04}, {'text': 'figuring things out and that all these', 'start': 115.079, 'duration': 3.36}, {'text': \"things are going to evolve that they're\", 'start': 117.159, 'duration': 3.201}, {'text': \"not perfect and that they're going to\", 'start': 118.439, 'duration': 5.161}, {'text': 'just like continue to evolve', 'start': 120.36, 'duration': 7.039}, {'text': 'and if if we want to get to like what', 'start': 123.6, 'duration': 6.24}, {'text': 'alien civilization looks like when we', 'start': 127.399, 'duration': 5.681}, {'text': 'got want to get to like super insane', 'start': 129.84, 'duration': 5.6}, {'text': 'levels of Technology where they control', 'start': 133.08, 'duration': 5.28}, {'text': 'all of the atmosphere they they', 'start': 135.44, 'duration': 5.12}, {'text': 'literally can harness the power of stars', 'start': 138.36, 'duration': 4.92}, {'text': \"like there's so much work to do like\", 'start': 140.56, 'duration': 4.64}, {'text': \"there's so much everybody has to figure\", 'start': 143.28, 'duration': 4.2}, {'text': 'out and if he if Terrence Howard somehow', 'start': 145.2, 'duration': 4.28}, {'text': \"or another it's if it's the craziest\", 'start': 147.48, 'duration': 4.36}, {'text': 'story ever and Terence Howard is like', 'start': 149.48, 'duration': 3.68}, {'text': 'literally one of the smartest guys that', 'start': 151.84, 'duration': 5.28}, {'text': \"ever lived and he's got all these genius\", 'start': 153.16, 'duration': 6.12}, {'text': 'ideas and inventions and even though he', 'start': 157.12, 'duration': 4.199}, {'text': 'seems C it seems just insane that this', 'start': 159.28, 'duration': 4.4}, {'text': 'is coming from an actor this is from The', 'start': 161.319, 'duration': 4.28}, {'text': 'Hustle and Flow guy what Hey listen this', 'start': 163.68, 'duration': 4.12}, {'text': 'is from the Iron Man guy what he was in', 'start': 165.599, 'duration': 4.28}, {'text': 'Boomerang back in the day with Eddie', 'start': 167.8, 'duration': 5.12}, {'text': 'Murphy [\\xa0__\\xa0] Sunset Park he was', 'start': 169.879, 'duration': 6.481}, {'text': \"Spaceman like he has range he's like a\", 'start': 172.92, 'duration': 6.48}, {'text': \"modernday Daniel day yeah he's he's he's\", 'start': 176.36, 'duration': 4.72}, {'text': \"a great great actor but it's just\", 'start': 179.4, 'duration': 3.6}, {'text': \"because he's so smart and then he's\", 'start': 181.08, 'duration': 3.28}, {'text': \"talking about how the periodic table's\", 'start': 183.0, 'duration': 3.28}, {'text': 'all [\\xa0__\\xa0] up and this is what like wait', 'start': 184.36, 'duration': 3.599}, {'text': 'a minute wait a minute wait a minut wait', 'start': 186.28, 'duration': 4.4}, {'text': 'what are you doing how can you do this I', 'start': 187.959, 'duration': 4.64}, {'text': 'understand about because of music I', 'start': 190.68, 'duration': 3.839}, {'text': \"understand the way the I feel what he's\", 'start': 192.599, 'duration': 4.081}, {'text': 'saying yeah like stop trying to uncover', 'start': 194.519, 'duration': 5.241}, {'text': '[\\xa0__\\xa0] just all these little micro [\\xa0__\\xa0]', 'start': 196.68, 'duration': 5.559}, {'text': 'bullshits what do you mean I like I said', 'start': 199.76, 'duration': 3.96}, {'text': \"I'm a [\\xa0__\\xa0] idiot I'm trying to\", 'start': 202.239, 'duration': 3.841}, {'text': 'regurgitate what I heard like as far as', 'start': 203.72, 'duration': 5.64}, {'text': 'all the elements the elements in between', 'start': 206.08, 'duration': 6.2}, {'text': 'yeah like why are they there we when', 'start': 209.36, 'duration': 6.72}, {'text': \"they're just you I we you and I never\", 'start': 212.28, 'duration': 5.92}, {'text': \"explain this in a way that's not hugely\", 'start': 216.08, 'duration': 3.56}, {'text': 'frustrating to anybody who really knows', 'start': 218.2, 'duration': 2.8}, {'text': \"I can't even remember what I'm trying to\", 'start': 219.64, 'duration': 3.84}, {'text': 'say but you know the [\\xa0__\\xa0] the way he was', 'start': 221.0, 'duration': 3.799}, {'text': \"explaining how everything's connected\", 'start': 223.48, 'duration': 4.08}, {'text': 'exactly yeah and the entire um the the', 'start': 224.799, 'duration': 4.401}, {'text': 'whole scale of it and the way he was', 'start': 227.56, 'duration': 4.08}, {'text': 'showing it like a geometric pattern and', 'start': 229.2, 'duration': 3.759}, {'text': 'when you look at it like the way he was', 'start': 231.64, 'duration': 3.72}, {'text': \"describing it you're like oh wow that\", 'start': 232.959, 'duration': 4.64}, {'text': 'kind of makes more sense it does make', 'start': 235.36, 'duration': 4.64}, {'text': \"sense that's it I mean it just looks\", 'start': 237.599, 'duration': 4.92}, {'text': \"beautiful that's fire oh Jamie that's\", 'start': 240.0, 'duration': 4.879}, {'text': 'dope art I need to know if this is true', 'start': 242.519, 'duration': 4.161}, {'text': \"I'm going to send you this but it's so\", 'start': 244.879, 'duration': 4.401}, {'text': 'cool that I I hoped and prayed that it', 'start': 246.68, 'duration': 3.72}, {'text': \"was true and I didn't even want to\", 'start': 249.28, 'duration': 4.28}, {'text': \"Google it but it's that they took these\", 'start': 250.4, 'duration': 5.44}, {'text': 'photons I was trying to find that I saw', 'start': 253.56, 'duration': 4.48}, {'text': \"see it I didn't find I Googled it and\", 'start': 255.84, 'duration': 4.32}, {'text': \"couldn't find anything how could this be\", 'start': 258.04, 'duration': 5.0}, {'text': 'fake why would they be lying to me Jamie', 'start': 260.16, 'duration': 4.64}, {'text': 'why would they be lying to me Jamie it', 'start': 263.04, 'duration': 3.76}, {'text': 'was like uh what did they do there was', 'start': 264.8, 'duration': 4.0}, {'text': 'photons had what it looked like a yin', 'start': 266.8, 'duration': 4.16}, {'text': \"and yang I'll tell you what it is I'll\", 'start': 268.8, 'duration': 4.72}, {'text': \"send it to you again I'll send you the\", 'start': 270.96, 'duration': 4.959}, {'text': 'uh there like a very specific thing they', 'start': 273.52, 'duration': 5.08}, {'text': 'did to them yeah but and it revealed the', 'start': 275.919, 'duration': 3.961}, {'text': \"yin-yang that's what that's what it\", 'start': 278.6, 'duration': 3.599}, {'text': \"looks like it's Quantum entangled\", 'start': 279.88, 'duration': 6.319}, {'text': 'photons so this is what it looks like', 'start': 282.199, 'duration': 6.44}, {'text': \"that's Quantum entangled photons now\", 'start': 286.199, 'duration': 5.56}, {'text': 'again for the record I am a [\\xa0__\\xa0]', 'start': 288.639, 'duration': 4.881}, {'text': \"idiot okay I don't even know what that\", 'start': 291.759, 'duration': 3.44}, {'text': 'means I can say those words Quantum', 'start': 293.52, 'duration': 3.84}, {'text': 'entangled photons but you made me like', 'start': 295.199, 'duration': 6.121}, {'text': 'WR down and without Googling in an essay', 'start': 297.36, 'duration': 5.96}, {'text': 'what a Quantum entangled Photon exactly', 'start': 301.32, 'duration': 4.52}, {'text': 'is but what it look photons from from', 'start': 303.32, 'duration': 5.56}, {'text': 'light from sun yeah but this is the', 'start': 305.84, 'duration': 6.28}, {'text': 'thing Quantum yinyang shows two photons', 'start': 308.88, 'duration': 5.08}, {'text': \"being entangled in real time so it's\", 'start': 312.12, 'duration': 4.2}, {'text': 'true stunning experiment which', 'start': 313.96, 'duration': 4.28}, {'text': 'reconstructs the properties of entangled', 'start': 316.32, 'duration': 4.76}, {'text': 'protons from a 2d interface pattern', 'start': 318.24, 'duration': 5.16}, {'text': 'could be used to design faster quantum', 'start': 321.08, 'duration': 4.839}, {'text': 'computers and when you when you', 'start': 323.4, 'duration': 4.88}, {'text': 'quantumly entangle two photons they look', 'start': 325.919, 'duration': 4.881}, {'text': 'like a yin and yang', 'start': 328.28, 'duration': 5.199}, {'text': 'do you know how insane this is quantumly', 'start': 330.8, 'duration': 5.32}, {'text': \"entangled mean that's a very good\", 'start': 333.479, 'duration': 4.361}, {'text': 'question that I can say and it makes me', 'start': 336.12, 'duration': 5.519}, {'text': 'sound smarter quantumly entangled but I', 'start': 337.84, 'duration': 4.919}, {'text': \"I couldn't write that down without\", 'start': 341.639, 'duration': 3.241}, {'text': 'Googling it exactly the quantum', 'start': 342.759, 'duration': 5.0}, {'text': 'entanglement is it the mixture of these', 'start': 344.88, 'duration': 5.68}, {'text': 'photons together well I think what it is', 'start': 347.759, 'duration': 6.081}, {'text': 'is these particles are entangled in some', 'start': 350.56, 'duration': 5.88}, {'text': \"way where they don't have to be in the\", 'start': 353.84, 'duration': 5.56}, {'text': 'same place and time but they react to', 'start': 356.44, 'duration': 6.52}, {'text': \"each each other there's some method or\", 'start': 359.4, 'duration': 5.56}, {'text': 'some way of understanding how this is', 'start': 362.96, 'duration': 4.76}, {'text': \"done it's all\", 'start': 364.96, 'duration': 6.4}, {'text': 'squirly yellow legal pad chalkboard with', 'start': 367.72, 'duration': 5.319}, {'text': \"a bunch of squiggles that you don't\", 'start': 371.36, 'duration': 5.36}, {'text': 'understand bananas talk who have Quantum', 'start': 373.039, 'duration': 6.6}, {'text': \"entangled photons I don't know exactly\", 'start': 376.72, 'duration': 4.56}, {'text': \"how they do it it's a weird connection\", 'start': 379.639, 'duration': 3.801}, {'text': 'between two far apart particles that', 'start': 381.28, 'duration': 4.8}, {'text': 'Albert hin Albert Einstein objected to', 'start': 383.44, 'duration': 5.84}, {'text': 'as spooky action at a distance enables', 'start': 386.08, 'duration': 5.88}, {'text': 'two light particles or photons become', 'start': 389.28, 'duration': 5.12}, {'text': 'inextricably blound to each other so', 'start': 391.96, 'duration': 4.959}, {'text': 'that a change to one causes a change in', 'start': 394.4, 'duration': 5.239}, {'text': 'the other no matter how far apart they', 'start': 396.919, 'duration': 5.241}, {'text': 'are to make accurate predictions about a', 'start': 399.639, 'duration': 5.441}, {'text': 'Quantum object physicists need to find', 'start': 402.16, 'duration': 5.08}, {'text': 'its wave function a description of its', 'start': 405.08, 'duration': 4.839}, {'text': 'state existing in a superp position of', 'start': 407.24, 'duration': 4.84}, {'text': 'all the possible physical values a', 'start': 409.919, 'duration': 4.521}, {'text': 'photon can take and tanglement makes', 'start': 412.08, 'duration': 4.48}, {'text': 'finding the wave function of two', 'start': 414.44, 'duration': 4.599}, {'text': 'connected particles a challenge as any', 'start': 416.56, 'duration': 5.12}, {'text': 'measurement of one also causes an', 'start': 419.039, 'duration': 5.401}, {'text': 'instantaneous change in the other but', 'start': 421.68, 'duration': 4.72}, {'text': 'why are they depicted in different', 'start': 424.44, 'duration': 3.879}, {'text': 'shades and different colors first of all', 'start': 426.4, 'duration': 3.84}, {'text': \"I don't trust these super dorks at all\", 'start': 428.319, 'duration': 4.241}, {'text': 'look at the photos of those people yeah', 'start': 430.24, 'duration': 4.799}, {'text': \"I don't know man they're pretty\", 'start': 432.56, 'duration': 5.479}, {'text': \"young yeah they're all too smart I don't\", 'start': 435.039, 'duration': 4.6}, {'text': \"trust them they're they're speaking\", 'start': 438.039, 'duration': 4.201}, {'text': 'gibberish I need to see some old guys', 'start': 439.639, 'duration': 4.24}, {'text': 'scientists look at this scientists have', 'start': 442.24, 'duration': 3.12}, {'text': 'used a first of its kind technique to', 'start': 443.879, 'duration': 3.32}, {'text': 'visualize two entangled life particles', 'start': 445.36, 'duration': 3.839}, {'text': 'in real time making them appear as a', 'start': 447.199, 'duration': 4.961}, {'text': 'stun rning Quantum yin-yang symbol the', 'start': 449.199, 'duration': 5.641}, {'text': 'new method called bif Photon digital', 'start': 452.16, 'duration': 5.4}, {'text': 'holography uses an ultra high Precision', 'start': 454.84, 'duration': 5.68}, {'text': 'Camera and be can be used to massively', 'start': 457.56, 'duration': 5.079}, {'text': 'speed up future Quantum measurements', 'start': 460.52, 'duration': 3.6}, {'text': \"well then it's all [\\xa0__\\xa0] it's not\", 'start': 462.639, 'duration': 4.24}, {'text': \"it's not real time it's not real what do\", 'start': 464.12, 'duration': 5.199}, {'text': \"you mean it's a [\\xa0__\\xa0] it's like those\", 'start': 466.879, 'duration': 4.961}, {'text': \"super it's like the AI [\\xa0__\\xa0] that's not a\", 'start': 469.319, 'duration': 5.121}, {'text': 'real image they colored it and fixed it', 'start': 471.84, 'duration': 6.4}, {'text': 'and put fade and brightness and [\\xa0__\\xa0]', 'start': 474.44, 'duration': 5.68}, {'text': \"you know like how does that I don't know\", 'start': 478.24, 'duration': 5.399}, {'text': \"if they did you don't think so no um I I\", 'start': 480.12, 'duration': 6.16}, {'text': 'think whatever the light is on the right', 'start': 483.639, 'duration': 4.441}, {'text': \"there's like a different technique of\", 'start': 486.28, 'duration': 3.44}, {'text': 'measuring it like what what was the one', 'start': 488.08, 'duration': 3.679}, {'text': 'on the right like how did they do that', 'start': 489.72, 'duration': 4.319}, {'text': 'heat this is so this has a', 'start': 491.759, 'duration': 4.521}, {'text': \"reconstruction of a I'm going get\", 'start': 494.039, 'duration': 5.481}, {'text': \"[\\xa0__\\xa0] demolished I'm a total [\\xa0__\\xa0] no\", 'start': 496.28, 'duration': 5.16}, {'text': \"I think I think there's just two\", 'start': 499.52, 'duration': 5.04}, {'text': 'different ways of of Imaging', 'start': 501.44, 'duration': 5.319}, {'text': \"it so I don't think there's anything\", 'start': 504.56, 'duration': 4.039}, {'text': \"fake about it I think it's just a\", 'start': 506.759, 'duration': 5.441}, {'text': 'bizarre shape that exists in ancient', 'start': 508.599, 'duration': 5.68}, {'text': \"cultures and now they're finding out is\", 'start': 512.2, 'duration': 5.0}, {'text': 'actually two entangled photons yeah but', 'start': 514.279, 'duration': 6.2}, {'text': 'how who came up with all this', 'start': 517.2, 'duration': 6.04}, {'text': '[\\xa0__\\xa0] [\\xa0__\\xa0] holography like what', 'start': 520.479, 'duration': 4.601}, {'text': 'the [\\xa0__\\xa0] is that where did this come', 'start': 523.24, 'duration': 5.0}, {'text': 'from now scientist dudes and gals and', 'start': 525.08, 'duration': 6.439}, {'text': 'non-binary folk what is what is the', 'start': 528.24, 'duration': 5.84}, {'text': 'actual definition of yin-yang Jamie like', 'start': 531.519, 'duration': 5.081}, {'text': \"what does it exactly mean it's I know\", 'start': 534.08, 'duration': 5.92}, {'text': \"it's to be balance like and I knew like\", 'start': 536.6, 'duration': 4.679}, {'text': 'back when I was in high school all the', 'start': 540.0, 'duration': 3.76}, {'text': 'cool kids got yin-yang tattoos I want', 'start': 541.279, 'duration': 4.441}, {'text': \"one now now I want one now I'm thinking\", 'start': 543.76, 'duration': 4.0}, {'text': 'about getting one because of the quantum', 'start': 545.72, 'duration': 3.6}, {'text': \"thing but it's so it's such a it became\", 'start': 547.76, 'duration': 3.96}, {'text': 'a corny thing like a yin-yang became', 'start': 549.32, 'duration': 4.92}, {'text': 'corny yeah when I was young it was', 'start': 551.72, 'duration': 6.32}, {'text': 'like tribal mhm like I now I want tribal', 'start': 554.24, 'duration': 7.12}, {'text': 'or barbwire around the bicep yeah like', 'start': 558.04, 'duration': 5.239}, {'text': 'old days like Pam', 'start': 561.36, 'duration': 4.36}, {'text': 'Anderson a lot of wrestlers had it okay', 'start': 563.279, 'duration': 5.12}, {'text': \"so what does it mean Bagwell there's no\", 'start': 565.72, 'duration': 5.239}, {'text': \"a meaning are popping up there's not I\", 'start': 568.399, 'duration': 3.921}, {'text': \"don't know about specific definition\", 'start': 570.959, 'duration': 3.041}, {'text': 'because you got to define the just', 'start': 572.32, 'duration': 4.16}, {'text': 'Google that right there people also ask', 'start': 574.0, 'duration': 4.24}, {'text': 'go back and then what is the meaning of', 'start': 576.48, 'duration': 4.2}, {'text': 'yinyang click on that what do that say I', 'start': 578.24, 'duration': 5.0}, {'text': 'know it popped up a', 'start': 580.68, 'duration': 2.56}, {'text': \"video I can't just tell you you just\", 'start': 583.92, 'duration': 5.24}, {'text': 'tell me [\\xa0__\\xa0] write it down so what does', 'start': 586.399, 'duration': 6.401}, {'text': \"it mean it's a I mean it's it's a you\", 'start': 589.16, 'duration': 5.799}, {'text': 'have to describe both and then you have', 'start': 592.8, 'duration': 4.96}, {'text': \"to describe them both together it's like\", 'start': 594.959, 'duration': 4.12}, {'text': 'describing what is light and what is', 'start': 597.76, 'duration': 3.0}, {'text': 'dark', 'start': 599.079, 'duration': 4.081}, {'text': \"it's a philosophy it's an open-ended\", 'start': 600.76, 'duration': 5.199}, {'text': 'philosophy', 'start': 603.16, 'duration': 2.799}]\n",
      "About to filter with start: 1 and end: 10\n",
      "filetred_transcrpit_peices:  [{'text': 'like an [\\xa0__\\xa0] sometimes when I come on', 'start': 4.56, 'duration': 5.72}, {'text': \"here Terence Howard you I don't even\", 'start': 6.72, 'duration': 5.32}]\n"
     ]
    }
   ],
   "source": [
    "loader = YouTubeLoader()\n",
    "filetred_transcrpit_peices = loader.filter_dicts_by_time_stamp(list_of_dicts=transcript_pieces, start=1, end=30)\n",
    "len(filetred_transcrpit_peices)"
   ]
  },
  {
   "cell_type": "code",
   "execution_count": 38,
   "metadata": {},
   "outputs": [
    {
     "ename": "TypeError",
     "evalue": "float() argument must be a string or a real number, not 'NoneType'",
     "output_type": "error",
     "traceback": [
      "\u001b[0;31m---------------------------------------------------------------------------\u001b[0m",
      "\u001b[0;31mTypeError\u001b[0m                                 Traceback (most recent call last)",
      "Cell \u001b[0;32mIn[38], line 2\u001b[0m\n\u001b[1;32m      1\u001b[0m a \u001b[38;5;241m=\u001b[39m \u001b[38;5;28;01mNone\u001b[39;00m\n\u001b[0;32m----> 2\u001b[0m \u001b[38;5;28;43mfloat\u001b[39;49m\u001b[43m(\u001b[49m\u001b[43ma\u001b[49m\u001b[43m)\u001b[49m \u001b[38;5;129;01mor\u001b[39;00m \u001b[38;5;241m1\u001b[39m\n",
      "\u001b[0;31mTypeError\u001b[0m: float() argument must be a string or a real number, not 'NoneType'"
     ]
    }
   ],
   "source": [
    "a = None\n",
    "float(a) or 1"
   ]
  },
  {
   "cell_type": "code",
   "execution_count": 42,
   "metadata": {},
   "outputs": [],
   "source": [
    "def func(a:float, b:float):\n",
    "    print(a,b)\n",
    "    print(type(a),type(b))"
   ]
  },
  {
   "cell_type": "code",
   "execution_count": 43,
   "metadata": {},
   "outputs": [
    {
     "name": "stdout",
     "output_type": "stream",
     "text": [
      "1 2\n",
      "<class 'str'> <class 'str'>\n"
     ]
    }
   ],
   "source": [
    "func(\"1\",\"2\")"
   ]
  },
  {
   "cell_type": "code",
   "execution_count": null,
   "metadata": {},
   "outputs": [],
   "source": []
  }
 ],
 "metadata": {
  "kernelspec": {
   "display_name": "kaibackend",
   "language": "python",
   "name": "python3"
  },
  "language_info": {
   "codemirror_mode": {
    "name": "ipython",
    "version": 3
   },
   "file_extension": ".py",
   "mimetype": "text/x-python",
   "name": "python",
   "nbconvert_exporter": "python",
   "pygments_lexer": "ipython3",
   "version": "3.10.12"
  }
 },
 "nbformat": 4,
 "nbformat_minor": 2
}
